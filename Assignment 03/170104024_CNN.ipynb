{
  "nbformat": 4,
  "nbformat_minor": 0,
  "metadata": {
    "colab": {
      "name": "170104024_CNN.ipynb",
      "provenance": [],
      "collapsed_sections": []
    },
    "kernelspec": {
      "name": "python3",
      "display_name": "Python 3"
    },
    "language_info": {
      "name": "python"
    },
    "accelerator": "GPU"
  },
  "cells": [
    {
      "cell_type": "markdown",
      "metadata": {
        "id": "ERzLS2rFDfZl"
      },
      "source": [
        "# **Imports Libraries**\n",
        "\n",
        "---\n",
        "\n"
      ]
    },
    {
      "cell_type": "code",
      "metadata": {
        "id": "orRp-682MJmf"
      },
      "source": [
        "import numpy as np # linear algebra\n",
        "import pandas as pd # data processing, CSV file I/O (e.g. pd.read_csv)\n",
        "import seaborn as sns\n",
        "import warnings\n",
        "warnings.filterwarnings(\"ignore\")\n",
        "import re\n",
        "import matplotlib.pyplot as plt\n",
        "from tensorflow.keras.layers import Embedding,Conv1D,Dense,MaxPooling1D,Flatten\n",
        "from tensorflow.keras.preprocessing.sequence import pad_sequences\n",
        "from tensorflow.keras.models import Sequential\n",
        "from tensorflow.keras.preprocessing.text import one_hot\n",
        "from nltk.stem.porter import PorterStemmer\n",
        "from nltk.corpus import stopwords"
      ],
      "execution_count": 1,
      "outputs": []
    },
    {
      "cell_type": "markdown",
      "metadata": {
        "id": "nenXrUq9Qeb0"
      },
      "source": [
        "# **Import Dataset**\n",
        "\n",
        "---\n",
        "\n"
      ]
    },
    {
      "cell_type": "code",
      "metadata": {
        "colab": {
          "base_uri": "https://localhost:8080/"
        },
        "id": "Rx4HzLyGMS3o",
        "outputId": "f21218d2-0566-43a4-a38c-17e8699b4b28"
      },
      "source": [
        "!gdown --id '14tIHCdB4-X2WAYUF3Vd17kALceqyHWIn'"
      ],
      "execution_count": 2,
      "outputs": [
        {
          "output_type": "stream",
          "name": "stdout",
          "text": [
            "Downloading...\n",
            "From: https://drive.google.com/uc?id=14tIHCdB4-X2WAYUF3Vd17kALceqyHWIn\n",
            "To: /content/Dataset_1.csv\n",
            "\r  0% 0.00/999k [00:00<?, ?B/s]\r100% 999k/999k [00:00<00:00, 56.6MB/s]\n"
          ]
        }
      ]
    },
    {
      "cell_type": "code",
      "metadata": {
        "colab": {
          "base_uri": "https://localhost:8080/",
          "height": 204
        },
        "id": "habrnb7dMPVt",
        "outputId": "faa076f6-fb15-49c2-b7ca-4e3d8cc669d8"
      },
      "source": [
        "train=pd.read_csv(\"Dataset_1.csv\", encoding = \"ISO-8859-1\")\n",
        "train.head()"
      ],
      "execution_count": 3,
      "outputs": [
        {
          "output_type": "execute_result",
          "data": {
            "text/html": [
              "<div>\n",
              "<style scoped>\n",
              "    .dataframe tbody tr th:only-of-type {\n",
              "        vertical-align: middle;\n",
              "    }\n",
              "\n",
              "    .dataframe tbody tr th {\n",
              "        vertical-align: top;\n",
              "    }\n",
              "\n",
              "    .dataframe thead th {\n",
              "        text-align: right;\n",
              "    }\n",
              "</style>\n",
              "<table border=\"1\" class=\"dataframe\">\n",
              "  <thead>\n",
              "    <tr style=\"text-align: right;\">\n",
              "      <th></th>\n",
              "      <th>message</th>\n",
              "      <th>label</th>\n",
              "    </tr>\n",
              "  </thead>\n",
              "  <tbody>\n",
              "    <tr>\n",
              "      <th>0</th>\n",
              "      <td>just had a real good moment. i missssssssss hi...</td>\n",
              "      <td>0</td>\n",
              "    </tr>\n",
              "    <tr>\n",
              "      <th>1</th>\n",
              "      <td>is reading manga  http://plurk.com/p/mzp1e</td>\n",
              "      <td>0</td>\n",
              "    </tr>\n",
              "    <tr>\n",
              "      <th>2</th>\n",
              "      <td>@comeagainjen http://twitpic.com/2y2lx - http:...</td>\n",
              "      <td>0</td>\n",
              "    </tr>\n",
              "    <tr>\n",
              "      <th>3</th>\n",
              "      <td>@lapcat Need to send 'em to my accountant tomo...</td>\n",
              "      <td>0</td>\n",
              "    </tr>\n",
              "    <tr>\n",
              "      <th>4</th>\n",
              "      <td>ADD ME ON MYSPACE!!!  myspace.com/LookThunder</td>\n",
              "      <td>0</td>\n",
              "    </tr>\n",
              "  </tbody>\n",
              "</table>\n",
              "</div>"
            ],
            "text/plain": [
              "                                             message  label\n",
              "0  just had a real good moment. i missssssssss hi...      0\n",
              "1         is reading manga  http://plurk.com/p/mzp1e      0\n",
              "2  @comeagainjen http://twitpic.com/2y2lx - http:...      0\n",
              "3  @lapcat Need to send 'em to my accountant tomo...      0\n",
              "4      ADD ME ON MYSPACE!!!  myspace.com/LookThunder      0"
            ]
          },
          "metadata": {},
          "execution_count": 3
        }
      ]
    },
    {
      "cell_type": "code",
      "metadata": {
        "id": "czvGkEIuPZaa"
      },
      "source": [
        "train[\"length\"]=train[\"message\"].apply(len)"
      ],
      "execution_count": 4,
      "outputs": []
    },
    {
      "cell_type": "code",
      "metadata": {
        "colab": {
          "base_uri": "https://localhost:8080/",
          "height": 204
        },
        "id": "DnBqkbauPbb4",
        "outputId": "10c2b3d5-4c9f-4d77-88c1-56a28b40f51c"
      },
      "source": [
        "train.head()"
      ],
      "execution_count": 5,
      "outputs": [
        {
          "output_type": "execute_result",
          "data": {
            "text/html": [
              "<div>\n",
              "<style scoped>\n",
              "    .dataframe tbody tr th:only-of-type {\n",
              "        vertical-align: middle;\n",
              "    }\n",
              "\n",
              "    .dataframe tbody tr th {\n",
              "        vertical-align: top;\n",
              "    }\n",
              "\n",
              "    .dataframe thead th {\n",
              "        text-align: right;\n",
              "    }\n",
              "</style>\n",
              "<table border=\"1\" class=\"dataframe\">\n",
              "  <thead>\n",
              "    <tr style=\"text-align: right;\">\n",
              "      <th></th>\n",
              "      <th>message</th>\n",
              "      <th>label</th>\n",
              "      <th>length</th>\n",
              "    </tr>\n",
              "  </thead>\n",
              "  <tbody>\n",
              "    <tr>\n",
              "      <th>0</th>\n",
              "      <td>just had a real good moment. i missssssssss hi...</td>\n",
              "      <td>0</td>\n",
              "      <td>57</td>\n",
              "    </tr>\n",
              "    <tr>\n",
              "      <th>1</th>\n",
              "      <td>is reading manga  http://plurk.com/p/mzp1e</td>\n",
              "      <td>0</td>\n",
              "      <td>42</td>\n",
              "    </tr>\n",
              "    <tr>\n",
              "      <th>2</th>\n",
              "      <td>@comeagainjen http://twitpic.com/2y2lx - http:...</td>\n",
              "      <td>0</td>\n",
              "      <td>84</td>\n",
              "    </tr>\n",
              "    <tr>\n",
              "      <th>3</th>\n",
              "      <td>@lapcat Need to send 'em to my accountant tomo...</td>\n",
              "      <td>0</td>\n",
              "      <td>135</td>\n",
              "    </tr>\n",
              "    <tr>\n",
              "      <th>4</th>\n",
              "      <td>ADD ME ON MYSPACE!!!  myspace.com/LookThunder</td>\n",
              "      <td>0</td>\n",
              "      <td>45</td>\n",
              "    </tr>\n",
              "  </tbody>\n",
              "</table>\n",
              "</div>"
            ],
            "text/plain": [
              "                                             message  label  length\n",
              "0  just had a real good moment. i missssssssss hi...      0      57\n",
              "1         is reading manga  http://plurk.com/p/mzp1e      0      42\n",
              "2  @comeagainjen http://twitpic.com/2y2lx - http:...      0      84\n",
              "3  @lapcat Need to send 'em to my accountant tomo...      0     135\n",
              "4      ADD ME ON MYSPACE!!!  myspace.com/LookThunder      0      45"
            ]
          },
          "metadata": {},
          "execution_count": 5
        }
      ]
    },
    {
      "cell_type": "code",
      "metadata": {
        "colab": {
          "base_uri": "https://localhost:8080/"
        },
        "id": "J9OYe4euQDwd",
        "outputId": "6f9dfdc4-b3a1-4b83-8656-70109e7b7e92"
      },
      "source": [
        "train.info()"
      ],
      "execution_count": 6,
      "outputs": [
        {
          "output_type": "stream",
          "name": "stdout",
          "text": [
            "<class 'pandas.core.frame.DataFrame'>\n",
            "RangeIndex: 10314 entries, 0 to 10313\n",
            "Data columns (total 3 columns):\n",
            " #   Column   Non-Null Count  Dtype \n",
            "---  ------   --------------  ----- \n",
            " 0   message  10314 non-null  object\n",
            " 1   label    10314 non-null  int64 \n",
            " 2   length   10314 non-null  int64 \n",
            "dtypes: int64(2), object(1)\n",
            "memory usage: 241.9+ KB\n"
          ]
        }
      ]
    },
    {
      "cell_type": "code",
      "metadata": {
        "colab": {
          "base_uri": "https://localhost:8080/"
        },
        "id": "4oi16OSmPoC0",
        "outputId": "87c552fb-3c57-4532-9127-072a07df9122"
      },
      "source": [
        "train.isnull().sum()"
      ],
      "execution_count": 7,
      "outputs": [
        {
          "output_type": "execute_result",
          "data": {
            "text/plain": [
              "message    0\n",
              "label      0\n",
              "length     0\n",
              "dtype: int64"
            ]
          },
          "metadata": {},
          "execution_count": 7
        }
      ]
    },
    {
      "cell_type": "code",
      "metadata": {
        "colab": {
          "base_uri": "https://localhost:8080/",
          "height": 296
        },
        "id": "FQ9vmKyDP-k6",
        "outputId": "5875ee98-9ec2-4f94-fbfb-b66986c7d4ef"
      },
      "source": [
        "import seaborn as sns\n",
        "sns.countplot(train[\"label\"])"
      ],
      "execution_count": 8,
      "outputs": [
        {
          "output_type": "execute_result",
          "data": {
            "text/plain": [
              "<matplotlib.axes._subplots.AxesSubplot at 0x7f92cfab7310>"
            ]
          },
          "metadata": {},
          "execution_count": 8
        },
        {
          "output_type": "display_data",
          "data": {
            "image/png": "[encoded data removed]",
            "text/plain": [
              "<Figure size 432x288 with 1 Axes>"
            ]
          },
          "metadata": {
            "needs_background": "light"
          }
        }
      ]
    },
    {
      "cell_type": "code",
      "metadata": {
        "colab": {
          "base_uri": "https://localhost:8080/",
          "height": 296
        },
        "id": "drIt1rxNQPuF",
        "outputId": "1f5d42ac-46fa-46b6-aa82-a84efc4b86ed"
      },
      "source": [
        "sns.distplot(train[\"length\"])"
      ],
      "execution_count": 9,
      "outputs": [
        {
          "output_type": "execute_result",
          "data": {
            "text/plain": [
              "<matplotlib.axes._subplots.AxesSubplot at 0x7f92cf11cbd0>"
            ]
          },
          "metadata": {},
          "execution_count": 9
        },
        {
          "output_type": "display_data",
          "data": {
            "image/png": "[encoded data removed]",
            "text/plain": [
              "<Figure size 432x288 with 1 Axes>"
            ]
          },
          "metadata": {
            "needs_background": "light"
          }
        }
      ]
    },
    {
      "cell_type": "markdown",
      "metadata": {
        "id": "oqc0Hy14QrjE"
      },
      "source": [
        "# **Data Preprocessing**\n",
        "\n",
        "---\n",
        "\n"
      ]
    },
    {
      "cell_type": "code",
      "metadata": {
        "id": "3y2maZS7QuPk"
      },
      "source": [
        "import re\n",
        "import nltk\n",
        "from nltk.corpus import stopwords\n",
        "from nltk.stem.porter import PorterStemmer"
      ],
      "execution_count": 11,
      "outputs": []
    },
    {
      "cell_type": "markdown",
      "metadata": {
        "id": "4V7XSVePSDV4"
      },
      "source": [
        "## **Number of stopwords in each tweet**"
      ]
    },
    {
      "cell_type": "code",
      "metadata": {
        "colab": {
          "base_uri": "https://localhost:8080/"
        },
        "id": "L6FBabUjRPZK",
        "outputId": "3b81861a-b561-4dd4-d917-de9f466fcc23"
      },
      "source": [
        "nltk.download('stopwords')\n",
        "stop=stopwords.words(\"english\")"
      ],
      "execution_count": 12,
      "outputs": [
        {
          "output_type": "stream",
          "name": "stdout",
          "text": [
            "[nltk_data] Downloading package stopwords to /root/nltk_data...\n",
            "[nltk_data]   Unzipping corpora/stopwords.zip.\n"
          ]
        }
      ]
    },
    {
      "cell_type": "code",
      "metadata": {
        "colab": {
          "base_uri": "https://localhost:8080/"
        },
        "id": "4pRx0L-sRwbN",
        "outputId": "cafb9be6-ee00-4c2d-bca6-47e0708c66fd"
      },
      "source": [
        "print(stop)"
      ],
      "execution_count": 13,
      "outputs": [
        {
          "output_type": "stream",
          "name": "stdout",
          "text": [
            "['i', 'me', 'my', 'myself', 'we', 'our', 'ours', 'ourselves', 'you', \"you're\", \"you've\", \"you'll\", \"you'd\", 'your', 'yours', 'yourself', 'yourselves', 'he', 'him', 'his', 'himself', 'she', \"she's\", 'her', 'hers', 'herself', 'it', \"it's\", 'its', 'itself', 'they', 'them', 'their', 'theirs', 'themselves', 'what', 'which', 'who', 'whom', 'this', 'that', \"that'll\", 'these', 'those', 'am', 'is', 'are', 'was', 'were', 'be', 'been', 'being', 'have', 'has', 'had', 'having', 'do', 'does', 'did', 'doing', 'a', 'an', 'the', 'and', 'but', 'if', 'or', 'because', 'as', 'until', 'while', 'of', 'at', 'by', 'for', 'with', 'about', 'against', 'between', 'into', 'through', 'during', 'before', 'after', 'above', 'below', 'to', 'from', 'up', 'down', 'in', 'out', 'on', 'off', 'over', 'under', 'again', 'further', 'then', 'once', 'here', 'there', 'when', 'where', 'why', 'how', 'all', 'any', 'both', 'each', 'few', 'more', 'most', 'other', 'some', 'such', 'no', 'nor', 'not', 'only', 'own', 'same', 'so', 'than', 'too', 'very', 's', 't', 'can', 'will', 'just', 'don', \"don't\", 'should', \"should've\", 'now', 'd', 'll', 'm', 'o', 're', 've', 'y', 'ain', 'aren', \"aren't\", 'couldn', \"couldn't\", 'didn', \"didn't\", 'doesn', \"doesn't\", 'hadn', \"hadn't\", 'hasn', \"hasn't\", 'haven', \"haven't\", 'isn', \"isn't\", 'ma', 'mightn', \"mightn't\", 'mustn', \"mustn't\", 'needn', \"needn't\", 'shan', \"shan't\", 'shouldn', \"shouldn't\", 'wasn', \"wasn't\", 'weren', \"weren't\", 'won', \"won't\", 'wouldn', \"wouldn't\"]\n"
          ]
        }
      ]
    },
    {
      "cell_type": "code",
      "metadata": {
        "id": "YrdL2_z9Qw9h"
      },
      "source": [
        "def stop_words(df):\n",
        "    df['stopwords'] = df['message'].apply(lambda x: len([x for x in x.split() if x in stop]))\n",
        "    print(df[['message','stopwords']].head())"
      ],
      "execution_count": 14,
      "outputs": []
    },
    {
      "cell_type": "code",
      "metadata": {
        "colab": {
          "base_uri": "https://localhost:8080/"
        },
        "id": "Q_qr_DqTRERa",
        "outputId": "936c4c5f-0498-4c65-9075-04d7ec54fb1b"
      },
      "source": [
        "stop_words(train)"
      ],
      "execution_count": 15,
      "outputs": [
        {
          "output_type": "stream",
          "name": "stdout",
          "text": [
            "                                             message  stopwords\n",
            "0  just had a real good moment. i missssssssss hi...          6\n",
            "1         is reading manga  http://plurk.com/p/mzp1e          1\n",
            "2  @comeagainjen http://twitpic.com/2y2lx - http:...          0\n",
            "3  @lapcat Need to send 'em to my accountant tomo...          7\n",
            "4      ADD ME ON MYSPACE!!!  myspace.com/LookThunder          0\n"
          ]
        }
      ]
    },
    {
      "cell_type": "markdown",
      "metadata": {
        "id": "oIGWQaBUW9TY"
      },
      "source": [
        "## **Web address, Twitter id Removal**"
      ]
    },
    {
      "cell_type": "code",
      "metadata": {
        "id": "u8uffo-DXF9_"
      },
      "source": [
        "def www_id_digit_removal(df):  \n",
        "    df['message'] = df['message'].apply(lambda x: \" \".join(x for x in x.split() if (x[0] != '@') & ('http' not in x)& ('.com' not in x)))\n",
        "    print(df['message'].head())"
      ],
      "execution_count": 16,
      "outputs": []
    },
    {
      "cell_type": "code",
      "metadata": {
        "colab": {
          "base_uri": "https://localhost:8080/"
        },
        "id": "Od3XLjWsXdSL",
        "outputId": "5ca0f049-b402-4430-d4c8-d1cc27c9fcb0"
      },
      "source": [
        "www_id_digit_removal(train)"
      ],
      "execution_count": 17,
      "outputs": [
        {
          "output_type": "stream",
          "name": "stdout",
          "text": [
            "0    just had a real good moment. i missssssssss hi...\n",
            "1                                     is reading manga\n",
            "2                                                    -\n",
            "3    Need to send 'em to my accountant tomorrow. Od...\n",
            "4                                 ADD ME ON MYSPACE!!!\n",
            "Name: message, dtype: object\n"
          ]
        }
      ]
    },
    {
      "cell_type": "code",
      "metadata": {
        "colab": {
          "base_uri": "https://localhost:8080/"
        },
        "id": "6zSZa4ehYVIe",
        "outputId": "72ed4b3b-789b-4565-e221-5592db10004b"
      },
      "source": [
        "train.isnull().sum()"
      ],
      "execution_count": 18,
      "outputs": [
        {
          "output_type": "execute_result",
          "data": {
            "text/plain": [
              "message      0\n",
              "label        0\n",
              "length       0\n",
              "stopwords    0\n",
              "dtype: int64"
            ]
          },
          "metadata": {},
          "execution_count": 18
        }
      ]
    },
    {
      "cell_type": "markdown",
      "metadata": {
        "id": "OdvT9UhwSIfP"
      },
      "source": [
        "## **Punctuation Marks Removal**"
      ]
    },
    {
      "cell_type": "code",
      "metadata": {
        "id": "toNf9OmjR43q"
      },
      "source": [
        "def punctuation_removal(df):\n",
        "    df['message'] = df['message'].str.replace('[^\\w\\s]','')\n",
        "    print(df['message'].head())"
      ],
      "execution_count": 19,
      "outputs": []
    },
    {
      "cell_type": "code",
      "metadata": {
        "colab": {
          "base_uri": "https://localhost:8080/"
        },
        "id": "JtUsUrhlSNs9",
        "outputId": "c3658b79-5426-49f2-f280-118f38148436"
      },
      "source": [
        "punctuation_removal(train)"
      ],
      "execution_count": 20,
      "outputs": [
        {
          "output_type": "stream",
          "name": "stdout",
          "text": [
            "0    just had a real good moment i missssssssss him...\n",
            "1                                     is reading manga\n",
            "2                                                     \n",
            "3    Need to send em to my accountant tomorrow Oddl...\n",
            "4                                    ADD ME ON MYSPACE\n",
            "Name: message, dtype: object\n"
          ]
        }
      ]
    },
    {
      "cell_type": "markdown",
      "metadata": {
        "id": "HVIuUw0-SasX"
      },
      "source": [
        "## **Most Frequent Words Removal**"
      ]
    },
    {
      "cell_type": "code",
      "metadata": {
        "colab": {
          "base_uri": "https://localhost:8080/"
        },
        "id": "sgmGX06sSjWv",
        "outputId": "8930a905-8f92-44e2-eb26-c113590a767d"
      },
      "source": [
        "freq = pd.Series(' '.join(train['message']).split()).value_counts()[:10]\n",
        "freq"
      ],
      "execution_count": 21,
      "outputs": [
        {
          "output_type": "execute_result",
          "data": {
            "text/plain": [
              "to            3758\n",
              "the           3448\n",
              "a             2949\n",
              "I             2839\n",
              "and           2574\n",
              "you           2143\n",
              "depression    1807\n",
              "of            1778\n",
              "my            1705\n",
              "is            1659\n",
              "dtype: int64"
            ]
          },
          "metadata": {},
          "execution_count": 21
        }
      ]
    },
    {
      "cell_type": "code",
      "metadata": {
        "colab": {
          "base_uri": "https://localhost:8080/"
        },
        "id": "oqnq5AWjTcBc",
        "outputId": "2ce09e66-86ae-4e00-abc3-21d25b2c80ec"
      },
      "source": [
        "freq = list(freq.index)\n",
        "freq"
      ],
      "execution_count": 22,
      "outputs": [
        {
          "output_type": "execute_result",
          "data": {
            "text/plain": [
              "['to', 'the', 'a', 'I', 'and', 'you', 'depression', 'of', 'my', 'is']"
            ]
          },
          "metadata": {},
          "execution_count": 22
        }
      ]
    },
    {
      "cell_type": "code",
      "metadata": {
        "colab": {
          "base_uri": "https://localhost:8080/"
        },
        "id": "L8b1MumtUkw6",
        "outputId": "33c489da-6328-4d11-86a8-687038f2c6af"
      },
      "source": [
        "freq.remove('depression')\n",
        "freq"
      ],
      "execution_count": 23,
      "outputs": [
        {
          "output_type": "execute_result",
          "data": {
            "text/plain": [
              "['to', 'the', 'a', 'I', 'and', 'you', 'of', 'my', 'is']"
            ]
          },
          "metadata": {},
          "execution_count": 23
        }
      ]
    },
    {
      "cell_type": "code",
      "metadata": {
        "id": "xJ2LkOjRTyUU"
      },
      "source": [
        "#Removing the most frequent words from the dataset\n",
        "def frequent_words_removal(df):  \n",
        "    df['message'] = df['message'].apply(lambda x: \" \".join(x for x in x.split() if x not in freq))\n",
        "    print(df['message'].head())"
      ],
      "execution_count": 24,
      "outputs": []
    },
    {
      "cell_type": "code",
      "metadata": {
        "colab": {
          "base_uri": "https://localhost:8080/"
        },
        "id": "tvB-CPguUCE9",
        "outputId": "c61cb08a-4f23-4e01-f48f-633c8e21ace1"
      },
      "source": [
        "frequent_words_removal(train)"
      ],
      "execution_count": 25,
      "outputs": [
        {
          "output_type": "stream",
          "name": "stdout",
          "text": [
            "0    just had real good moment i missssssssss him s...\n",
            "1                                        reading manga\n",
            "2                                                     \n",
            "3    Need send em accountant tomorrow Oddly wasnt e...\n",
            "4                                    ADD ME ON MYSPACE\n",
            "Name: message, dtype: object\n"
          ]
        }
      ]
    },
    {
      "cell_type": "code",
      "metadata": {
        "colab": {
          "base_uri": "https://localhost:8080/"
        },
        "id": "VjknJ2IVYr4H",
        "outputId": "08a0a43f-4b01-4f5b-f97f-6384586cbfd2"
      },
      "source": [
        "train.isnull().sum()"
      ],
      "execution_count": 26,
      "outputs": [
        {
          "output_type": "execute_result",
          "data": {
            "text/plain": [
              "message      0\n",
              "label        0\n",
              "length       0\n",
              "stopwords    0\n",
              "dtype: int64"
            ]
          },
          "metadata": {},
          "execution_count": 26
        }
      ]
    },
    {
      "cell_type": "markdown",
      "metadata": {
        "id": "G0dGlVVMVKDS"
      },
      "source": [
        "## **Rare Words Removal**"
      ]
    },
    {
      "cell_type": "code",
      "metadata": {
        "colab": {
          "base_uri": "https://localhost:8080/"
        },
        "id": "tdHBAeF2UHIK",
        "outputId": "463ef785-3d27-4ce3-9db5-7594a0541c8c"
      },
      "source": [
        "freq = pd.Series(' '.join(train['message']).split()).value_counts()[-10:]\n",
        "freq"
      ],
      "execution_count": 27,
      "outputs": [
        {
          "output_type": "execute_result",
          "data": {
            "text/plain": [
              "refreshed        1\n",
              "RBI              1\n",
              "GCHQ             1\n",
              "humour           1\n",
              "argumentative    1\n",
              "romy             1\n",
              "unlikely         1\n",
              "lmaO             1\n",
              "cleaner          1\n",
              "quotAll          1\n",
              "dtype: int64"
            ]
          },
          "metadata": {},
          "execution_count": 27
        }
      ]
    },
    {
      "cell_type": "code",
      "metadata": {
        "id": "mF4a1aqVVZpZ"
      },
      "source": [
        "freq = list(freq.index)\n",
        "def rare_words_removal(df):\n",
        "    df['message'] = df['message'].apply(lambda x: \" \".join(x for x in x.split() if x not in freq))\n",
        "    print(df['message'].head())"
      ],
      "execution_count": 28,
      "outputs": []
    },
    {
      "cell_type": "code",
      "metadata": {
        "colab": {
          "base_uri": "https://localhost:8080/"
        },
        "id": "FIMB_JLqVoea",
        "outputId": "ca5f0c27-ba50-42dc-c0c2-621d55ad0dc5"
      },
      "source": [
        "rare_words_removal(train)"
      ],
      "execution_count": 29,
      "outputs": [
        {
          "output_type": "stream",
          "name": "stdout",
          "text": [
            "0    just had real good moment i missssssssss him s...\n",
            "1                                        reading manga\n",
            "2                                                     \n",
            "3    Need send em accountant tomorrow Oddly wasnt e...\n",
            "4                                    ADD ME ON MYSPACE\n",
            "Name: message, dtype: object\n"
          ]
        }
      ]
    },
    {
      "cell_type": "code",
      "metadata": {
        "colab": {
          "base_uri": "https://localhost:8080/"
        },
        "id": "9RXA8OpqYvod",
        "outputId": "405983dc-dff9-4c97-9228-58f25c320754"
      },
      "source": [
        "train.isnull().sum()"
      ],
      "execution_count": 30,
      "outputs": [
        {
          "output_type": "execute_result",
          "data": {
            "text/plain": [
              "message      0\n",
              "label        0\n",
              "length       0\n",
              "stopwords    0\n",
              "dtype: int64"
            ]
          },
          "metadata": {},
          "execution_count": 30
        }
      ]
    },
    {
      "cell_type": "code",
      "metadata": {
        "id": "O-YAl_LAZ6-H",
        "colab": {
          "base_uri": "https://localhost:8080/"
        },
        "outputId": "6fe441be-5403-4de9-fb2e-313a1035005a"
      },
      "source": [
        "stop_words(train)"
      ],
      "execution_count": 31,
      "outputs": [
        {
          "output_type": "stream",
          "name": "stdout",
          "text": [
            "                                             message  stopwords\n",
            "0  just had real good moment i missssssssss him s...          5\n",
            "1                                      reading manga          0\n",
            "2                                                             0\n",
            "3  Need send em accountant tomorrow Oddly wasnt e...          1\n",
            "4                                  ADD ME ON MYSPACE          0\n"
          ]
        }
      ]
    },
    {
      "cell_type": "markdown",
      "metadata": {
        "id": "pb9d9OpfbqqA"
      },
      "source": [
        "## **Stemming and Removing Stopwords**"
      ]
    },
    {
      "cell_type": "code",
      "metadata": {
        "id": "tJ_036ksbp5u"
      },
      "source": [
        "stemmer=PorterStemmer()"
      ],
      "execution_count": 32,
      "outputs": []
    },
    {
      "cell_type": "code",
      "metadata": {
        "id": "k5aa7Rj4bufn"
      },
      "source": [
        "corpus=[]\n",
        "for i in range(len(train)):\n",
        "    #replacing everything other than alphabets with a space\n",
        "    review=re.sub(\"[^a-zA-Z]\",\" \",str(train[\"message\"][i]))\n",
        "    #Lowering the tweets\n",
        "    review=review.lower()\n",
        "    #Converting in a list\n",
        "    review=review.split()\n",
        "    #Finding and removing stopwords\n",
        "    review=[stemmer.stem(word) for word in review if not word in set(stopwords.words(\"english\"))]\n",
        "    #Joining after removal of stopwords\n",
        "    review=\" \".join(review)\n",
        "    corpus.append(review)"
      ],
      "execution_count": 33,
      "outputs": []
    },
    {
      "cell_type": "code",
      "metadata": {
        "colab": {
          "base_uri": "https://localhost:8080/"
        },
        "id": "OnZLlcphbxUs",
        "outputId": "f122f25e-2ba0-4be9-943a-543dea44c84a"
      },
      "source": [
        "corpus"
      ],
      "execution_count": 34,
      "outputs": [
        {
          "output_type": "execute_result",
          "data": {
            "text/plain": [
              "['real good moment missssssssss much',\n",
              " 'read manga',\n",
              " '',\n",
              " 'need send em account tomorrow oddli wasnt even refer tax support evid though',\n",
              " 'add myspac',\n",
              " 'sleepi good time tonight though',\n",
              " 'nbn someon alreadi said fiber home mean least regular',\n",
              " 'c possibl today nice',\n",
              " 'nite twittervil workout ciao',\n",
              " 'night darlin sweet dream',\n",
              " 'good morn everybodi',\n",
              " 'final creat wordpress blog there alreadi blog seattl coffe commun',\n",
              " 'kisha cnt get u til get frm u rememb ur top',\n",
              " 'ye rememb band awesom pleas repli',\n",
              " 'realli love reflect shadow',\n",
              " 'ooo fantasi like fantasi novel check',\n",
              " 'prob sell noth blog ill get listen band itun',\n",
              " 'quotnokla connect peoplequot',\n",
              " 'stay late start earli good thing like job',\n",
              " 'read new job congratul that fantast',\n",
              " 'havent abl sleep think ill watch ugli betti onlin',\n",
              " 'woo thank ron steev follow yeow folowerssss haha ps wanna got ellen show',\n",
              " 'yeah sure sister take extra gd care',\n",
              " 'yay duck want anyth watch itd duck lol',\n",
              " 'smaaack ass hahhahahaa make laugh oooooh sleeeep ahha gniit',\n",
              " 'woo late haha goodnight twittervers xoxo',\n",
              " 'look forward meet pastor kong jw later',\n",
              " 'u know minichocol shape liquor bottl liqour insid em',\n",
              " 'test see twitter work thro facebook',\n",
              " 'night babi got vh thing check pic',\n",
              " 'got magic number thank yall support',\n",
              " 'cold man love weather',\n",
              " 'ok guy weve offici launch new languag swedish russian realli fun ask',\n",
              " 'ladi bought bracelet pictur twitter page background still wear week later hasnt taken like',\n",
              " 'dwanb ate filet american morn cant see pic mobil twitter',\n",
              " 'book hair appoint',\n",
              " 'report english b modern histori geographi b math b b account ipt',\n",
              " 'lol know sound voic great need euh finetun',\n",
              " 'cupcak heaven check shop nice design weird contact info popup tho',\n",
              " 'bought mh bundl creat task call quotmarioquot quotstar warsquot quotth hit listquot make sure sound complet task',\n",
              " 'someon turn shower pleas',\n",
              " 'yeah mani us angri feeter tim good lol good go havent post',\n",
              " 'love new song choru real nice catchi gud job track record jordan',\n",
              " 'alrit thanxx',\n",
              " 'look forward new websit',\n",
              " 'awww sweet he still cuti',\n",
              " 'ohhh send load posit vibe way',\n",
              " 'cool stuff',\n",
              " 'celebr minor bank triumph that bank b got one admit wrong',\n",
              " 'think everyth cross turn babi turn',\n",
              " 'id forgotten need sometim',\n",
              " 'eclips awesom better new moon',\n",
              " 'tire today drunk husband roll bunch friend anoth drink noisi lot',\n",
              " 'well definitelli worth tri youll notic differ favorit neither',\n",
              " 'good morn miley',\n",
              " 'finish first shift door open alreadi',\n",
              " 'noth quit like find good amp set solid state amp',\n",
              " 'paid made redund two week ago need job big time',\n",
              " 'watch steam train go back forth ravenglass sunni',\n",
              " 'bout steppenwolf magic carpet ride',\n",
              " 'haha maxxi beat whippet',\n",
              " 'yaaaaay jac train sorcer level mean ill pwn soon',\n",
              " 'doggi cute',\n",
              " 'tell simon quotwho use tuk fmquot say hi',\n",
              " 'wildstarb happi rezday captain quit parti',\n",
              " 'car cost arm leg cute forgiv',\n",
              " 'tweet cracker barrel',\n",
              " 'phillip schofield schofe he legend ami need follow he page',\n",
              " 'check new techno record juno',\n",
              " 'funni',\n",
              " 'go make duti tomorrow goodnight',\n",
              " 'ye mam there noth like start day good song danc move',\n",
              " 'go paint nail get foood',\n",
              " 'athen',\n",
              " 'someon would figur access mp without actual pay',\n",
              " 'oh crap im sure wont dare charg custom care india though',\n",
              " 'handmad good moment xxx',\n",
              " 'browni good time day',\n",
              " 'check myspac look band differ state add friend myspac love music',\n",
              " 'happi birthday grandpa cat still love',\n",
              " 'nose clog use plunger',\n",
              " 'huy matulog ka na hahah cbroom aint done yet take shape',\n",
              " 'couldnt come better time',\n",
              " 'day school left week im beyond excit saturday',\n",
              " 'simpl girloatm make realli happi morningand bloom wisteria',\n",
              " 'im fine thank keep beauti alway',\n",
              " 'that beauti love thing say',\n",
              " 'chang name michel',\n",
              " 'yay well dont feel spesh',\n",
              " 'anoth year older today least sunni',\n",
              " 'yep fought back well think turn decis moment win leagu though',\n",
              " 'thank ive live florida sinc miss snow',\n",
              " 'goin abroaaaaad tomrow dubaiiii cant wait long twitter room prodigi sorri peep',\n",
              " 'lol shame',\n",
              " 'mean mc escher painter dj',\n",
              " 'wish school like revis session class nonuniform abl laugh learn time',\n",
              " 'nothin like good book spring clean',\n",
              " 'thank appreci feedback',\n",
              " 'im listen music',\n",
              " 'hi mileeey friend cant wait come spain excit love song great',\n",
              " 'anoth big tabl touch screen woot',\n",
              " 'mistaken uncl pm angamali antwic gone case shavam',\n",
              " 'caus dont gem',\n",
              " 'offici result came pr seat wherea bn seat congratul pr',\n",
              " 'thx advic wait petosin kick',\n",
              " 'im play hooki work today voic realli gone tho im home today',\n",
              " 'love spontan road trip',\n",
              " 'id love tweet day today work must get done ill tweet god bless everyon tcot',\n",
              " 'friday yet babi tweepletuesday followfriday',\n",
              " 'take advantag sunshin go take dog beach walkno work daysyipeeee',\n",
              " 'still employ troubl stuff that sweet',\n",
              " 'let see well hour sleep hold today predict massiv slowdown funni',\n",
              " 'came back see againn gooddd lt',\n",
              " 'mayb mayb',\n",
              " 'sooo watch disast movi absolutli hilari ur idol',\n",
              " 'happi mandi safe trip never va beach enjoy',\n",
              " 'id sign extra credit',\n",
              " 'fall asleep goodnight everyon',\n",
              " 'ive live twitter api land long call oauth button',\n",
              " 'mate gunna chekk movi next weeki realli want see boat rock',\n",
              " 'total agre anna',\n",
              " 'follow us contact',\n",
              " 'love good book',\n",
              " 'sister anoth mister kayla',\n",
              " 'sun sky light way time promis willll',\n",
              " 'sound like pretti good night',\n",
              " 'accord roster hockey season wont bad hah',\n",
              " 'happi gilmor',\n",
              " 'lmao guess friday bad',\n",
              " 'wish wasnt follow could follow wayn',\n",
              " 'time shower french toast togeth',\n",
              " 'daamnn im even go ask hk',\n",
              " 'today thunder louisvil start derbi festiv love festiv even im go',\n",
              " 'good mornin folk think ill make coupl home made egg mcmuffin go excel coffe clear sunni mornin',\n",
              " 'think kellan lutz hot smoke',\n",
              " 'okay torn apart work fresh coffe amp peanut butter toast ill tri put back togeth less crap time',\n",
              " 'relax guest come hope everyon like food know morton wont made plain rice',\n",
              " 'hair aint red da light blond black hey hotti da girl',\n",
              " 'today day',\n",
              " 'shop queen st sun yesterday like last time need find sf equival experi',\n",
              " 'backgammon birthday meal friend later',\n",
              " 'holla chill way buy mapl syrup mmm what hope your great morn',\n",
              " 'look ok bit byte clean hooponopono',\n",
              " 'seriou busi',\n",
              " 'made na twitter haha upload photo updatee',\n",
              " 'heyi aww thank much hun rock xoxo',\n",
              " 'heidiii love new singl blackoutamaz think dress amazinggg im jealou haha pleas answer someth',\n",
              " 'tempt morn randomli woke fallen asleep saniti import',\n",
              " 'great photograph saw guy play westjet street parti short set awesom nonetheless',\n",
              " 'realli like im ur fan love ur movi especi she man funni love lt',\n",
              " 'right back atchya hope your great day',\n",
              " 'got showerrr myspac',\n",
              " 'gonna hang two favorit peopl',\n",
              " 'pipe call',\n",
              " 'lmao love good comedi',\n",
              " 'thank follow',\n",
              " '',\n",
              " 'twitter look miley cyru luv xo',\n",
              " 'hey kim im huge fan ur like role model realli hope actual meet u one day',\n",
              " 'go outsid',\n",
              " 'oh demi sure knee slapper',\n",
              " 'alyssa',\n",
              " 'hi luv sound like busi day hope went well',\n",
              " 'watch bradi bunch',\n",
              " 'go mall',\n",
              " 'mad complet mission without app good pretti',\n",
              " 'love sound break glass someth cathart',\n",
              " 'boulder creek gram',\n",
              " 'love babi',\n",
              " 'im retweet person believ tweet effect weekli purg take care thing',\n",
              " 'aw safe trip sweeti ill miss ox',\n",
              " 'well pizza good',\n",
              " 'qotd quothey still havent told guy stori english heritag fella he lucki still alivequot',\n",
              " 'im still sit mayb ill go get air serious need help life almost clutter room',\n",
              " 'come could use nice decad parti',\n",
              " 'around',\n",
              " 'love selena gomez your beauti your role model idol would happi repli',\n",
              " 'mommi',\n",
              " 'beer amp corn dog know weird combo santa monica pier',\n",
              " 'hm take essay go well right perhap swap noth left lose lol',\n",
              " 'tweetup afterparti genji',\n",
              " 'back work twitt yall laterz',\n",
              " 'go church',\n",
              " 'yeah im done puke crown coke',\n",
              " 'know im normal il though il cool see happen world twitter',\n",
              " 'wife shop great mall milpita great price us dollar still reason low us',\n",
              " 'goi reedbox get movii',\n",
              " 'good thing p amp k day job',\n",
              " 'sorri spamminghav troubl mash multisyllab word hate finger',\n",
              " 'statesboro fun im see greenjacket augusta tonight',\n",
              " 'fact didnt know librari close lame',\n",
              " 'oopssss forgot put ypur link begin haha case didnt realis hope your feel better',\n",
              " 'hi would suggest music electro project free download amp fun cheer',\n",
              " 'aw well u ever feel like fli con ill help u find place crash flew london buffi con btw',\n",
              " 'fabul hr run desert missi kaya run errand buffalo burger',\n",
              " 'go old schoolplay super mario brother',\n",
              " 'head clear lake meet ken coast guar aux dinner hope road clearnot feel row',\n",
              " 'your truli addict twitter link facebook twitter togeth updat one',\n",
              " 'way least rate though may even bake someth tonight know',\n",
              " 'thank ill take inspir today test',\n",
              " 'hey',\n",
              " 'oh good thankyou',\n",
              " 'im feel peac room clean ny hair cut think im readi nap',\n",
              " 'parti tonight j loung downtown la nice sunni day cali',\n",
              " 'guy come washington state total crush tacoma mall pleas lol',\n",
              " 'seth mcfarlen god',\n",
              " 'im glad guy wonder weekend',\n",
              " 'goodnight',\n",
              " 'sure bb',\n",
              " 'half taught half actual learn viva la vida coldplayep song',\n",
              " 'hehe u funni follow',\n",
              " 'watch nci grey hair make mark harmon attract think',\n",
              " 'readi patron hollywood phathead bday',\n",
              " 'go skydiv ill let know next time im town',\n",
              " 'noth',\n",
              " 'yearbook closetil look moro u still curiou um go school exactlylol',\n",
              " 'new osalto blog post enjoy',\n",
              " 'blast across univers soundtrack',\n",
              " 'oh dont worri gonna bad co sunday',\n",
              " 'lol dont realli understand twitter quit yet got repli chipotl that cool',\n",
              " 'cool peopl herebeforeoprah',\n",
              " 'fun night got see andi yay took ihop yum',\n",
              " 'oliv long get readi come',\n",
              " 'show last night amaz glad abl go',\n",
              " 'ye nyc way loveh',\n",
              " 'btw meant tell earlier sweet shirt wear afflicationufc shirt still wait cool card get auth wear',\n",
              " 'u learn',\n",
              " 'skype endless fun',\n",
              " 'bali juli japan when good time go japan anyon',\n",
              " 'thank follow back',\n",
              " 'nice think ill get sleep ill enough energi enjoy horsey day',\n",
              " 'join cant sleep montu trackday njmp cbr rr thunderbolt',\n",
              " 'thank huge hug',\n",
              " 'recent matrix trilog sittingthat tire awesom matrix trilog favorit sci fi film stori',\n",
              " 'total agre beyonc she stupid ali larter',\n",
              " 'dont forget parent often think offspr yo',\n",
              " 'wardrob often made chees eat',\n",
              " 'went wallyworld today awesom time get kewl easter basket nitelit comput',\n",
              " 'okay text say hed wake lol doesnt call pm time thx karen',\n",
              " 'sleep',\n",
              " 'watch idnhu vid',\n",
              " 'cant wait',\n",
              " 'happi birthday take plenti picsvideo youll rememb later',\n",
              " 'good night tonightmi journey twit end tomorrow see ya tomorrow',\n",
              " 'congrat cooler happi birthday miss love',\n",
              " 'night twittz ju came home parti love hella tire allerg cat ew irrit',\n",
              " 'happi easter everyon',\n",
              " 'janin whoa dude hahah u realli put thing sent u sa fb ahhahage tnx janin',\n",
              " 'hehe yep love car boot never usual buy much heh',\n",
              " 'love diddi diddi live gt',\n",
              " 'ive finish eat drink badg gt lt look',\n",
              " 'readi go bed long day today good night',\n",
              " 'oooh cool cool thank much inform',\n",
              " 'love',\n",
              " 'well organis properli next time glad enjoy',\n",
              " 'got must recharg',\n",
              " 'thank',\n",
              " 'good stuff woop look forward tomorrow good day mr brian',\n",
              " 'morn irish btw',\n",
              " 'omg fix ipod',\n",
              " 'think read real blog awesom like lol',\n",
              " 'congratul hate',\n",
              " 'quotquotdaiblackish greenquotquotsisilksoquotquot silk blackish green colori hope like',\n",
              " '',\n",
              " 'sweetpea back schoolunivers moro realiti bite great break tho feel rejuvin',\n",
              " 'thank feet leg ach comment eas pain',\n",
              " 'l till wait u kekekek jk',\n",
              " 'anyon care comment last night hell kitchen well',\n",
              " 'build websit',\n",
              " 'watch wizard waverli place lol lol lol',\n",
              " 'sacc meet parent',\n",
              " 'awww thank call sexxxyand thought forgot',\n",
              " 'stare stupidli front dad haha look like einstein',\n",
              " 'yet see wast dream deserv ill tear face see smile lt',\n",
              " 'good night twitter shit lol im fuuuucckedd hjdjjsiurjhjfhoipwplkjdhjdhhjhjdxdhueuhrjjjjjaaayyyyyyyyyyyi',\n",
              " 'borrow georg',\n",
              " 'champagn breakfast bubbl went straight head tho lol',\n",
              " 'good tri well done paint way',\n",
              " 'welcom home',\n",
              " 'todd saviour goodnight facebook',\n",
              " 'heard bootleg remix quotif u seek amyquot kiss fm chicago',\n",
              " 'ahh vampir haha aint pale naman ah',\n",
              " 'road wife st triathlon updat hr call paramed',\n",
              " 'cant waight till new albam guy save life rock',\n",
              " 'feel like eat inch pizza yellowcab someon give haha',\n",
              " 'happi sunday get readi go church love god much u take care friend',\n",
              " 'take dad',\n",
              " 'tomorrow comput im phone right',\n",
              " 'lololol love man ugg',\n",
              " 'ooooo chang',\n",
              " 'sammi read amaz sunshin love thank everyth bet feel love haha',\n",
              " 'night awesom slept watch kyle xy supernatur great',\n",
              " 'kim sorri sun burn lol hope feel good follow pleas big fan lt',\n",
              " 'lunch dishwash im back',\n",
              " 'omj look hot everi pic your love new haircut',\n",
              " 'fu follow haha',\n",
              " 'ah nevermind thought count also quit predict',\n",
              " 'last night good watch pearl harbour elli ben afleck amp whoever play best mate fit anth fell asleep lmao',\n",
              " 'got beaten less get beaten without',\n",
              " 'love night',\n",
              " 'umm arrang would earliest day could get',\n",
              " 'didnt make co one mango short use fresh mango theyr season',\n",
              " 'home famili wet co rain got call dad bu co mum got worri wasnt home yet isnt sweet',\n",
              " 'hey hun great see ure twitter hope ure well x',\n",
              " 'yeah right',\n",
              " 'awak lovin arttm ff main h ever',\n",
              " 'great thank make music good today',\n",
              " 'way airport bye bitch',\n",
              " 'longest sound check ever long time type stage',\n",
              " 'well next time next time',\n",
              " 'anyway sarah prout wish best luck hope fun process cheer',\n",
              " 'would love see write think your great writer judg',\n",
              " 'make sure dont take fun fundament',\n",
              " 'birthday final woohooooo',\n",
              " 'wonder capcom found necessari comic increas zangief bulk throughout street fighter game',\n",
              " 'super tire earli awak weekend king island later',\n",
              " 'gosh like sayig funni gosh haha meen word self',\n",
              " 'okaaay that crazi luv ermblu omg',\n",
              " 'thank younger use hate bulli ginger love x',\n",
              " 'wont miss star trek movi trekki crossdressingconfer go type lmbo',\n",
              " 'updat myspac accout love playlist gt',\n",
              " 'im alreadi bounc back meltdown catch breath',\n",
              " 'hey',\n",
              " 'breakfast tomorrow',\n",
              " 'oh thing similar time thank give name research',\n",
              " 'happi birthday',\n",
              " 'spaniard notic galician accent speak english find funni',\n",
              " 'mysha amp myreen cute',\n",
              " 'peac sunni',\n",
              " 'go spend sunday famili',\n",
              " 'lol bet station hear alot let hope singl red hot',\n",
              " 'mayb connect shite everyon beat',\n",
              " 'end nearli sight thank god got cheeki bit supernatur background',\n",
              " 'irish german there spunk mix',\n",
              " 'hahaha know im uptight thank handsom xoxoxoxoxoxoxox',\n",
              " 'look boat rental lake eufaula famili visit recommend',\n",
              " 'birthday',\n",
              " 'good tranc music gt redbul asot',\n",
              " 'first opi ds desir prepar tri',\n",
              " 'nice choic anyway thought mayb artist',\n",
              " 'ever sinc bought macbook send much email fuck easi becom spammer',\n",
              " 'welcom back la congrat shout look forward resid hc',\n",
              " 'yeah wouldnt care disney channel movi realli wanna horrorthril',\n",
              " 'gosh realis much film studi work pete set us meanwhil im go watch motorcycl diari',\n",
              " 'ye littlest houseguest go home today alreadi turn great day',\n",
              " 'excit friend date today',\n",
              " 'watch nba playoff coverag favourit question jazz chanc laker everyon answer far',\n",
              " 'men annoy',\n",
              " 'spend day sister',\n",
              " 'watch footbal',\n",
              " 'hope everyon swell day',\n",
              " 'need outsid littl get fix im fine glanc window puter thing',\n",
              " 'diggin mah new sweater',\n",
              " 'ilovelovelovey',\n",
              " 'word may want one u finish',\n",
              " 'anyon give away iphon lol realli want one anyon gener',\n",
              " 'thank new follow appreci',\n",
              " 'good luck everyth great around',\n",
              " 'awesom onether cool game',\n",
              " 'get readi go bbq babi daddi hous wife kidscrazi huh peacerockin bob marley tee js',\n",
              " 'cant wait til come halifax juli babi got ticket',\n",
              " 'dont much clout would def give arugul thumb',\n",
              " 'sweet ride day green lizard lol',\n",
              " 'also inbetween class',\n",
              " 'lol know mean',\n",
              " 'studi happi everyon xx',\n",
              " 'would son without doubt he year old air breath amp love life',\n",
              " 'take lunch break great rehears',\n",
              " 'care your tweet',\n",
              " 'great show night excit anoth',\n",
              " 'lovee sb',\n",
              " 'wanna write review film amp music releas go amp leav place long time cours',\n",
              " 'thought imogen heap dude first time heard sing low first album',\n",
              " 'ahhah know want follow toooo',\n",
              " 'chang email address old navi newslett got anoth quotthank sign upquot coupon awesom',\n",
              " 'fina cut da celli back onn c dun texd meden hit da frenz ampamp c wat iz fa dayi',\n",
              " 'tweet first time watch music channel',\n",
              " 'think need know could go parti itll pretti amaz',\n",
              " 'thank comfort intellig rhetor',\n",
              " 'well chuf surpris flynnmiest balloon present',\n",
              " 'ferrero rocher thatll go straight hip enjoy',\n",
              " 'happen celtic im glad im la girl utah go',\n",
              " 'realli hope arriv rd th pari nd week back august th',\n",
              " 'im glad pour bit',\n",
              " 'paint one put finish touch',\n",
              " 'sorri hear root canal good luck fun soft food',\n",
              " 'love movi zac awesomee',\n",
              " 'see car behav strang traffic dont worri drive',\n",
              " 'lmao aw amaz dont think could ever get use thing like hey that hah aw dna stuff',\n",
              " 'best movi everi think everyon justic go see itfor',\n",
              " 'aww aaron nice hear dont see theyr say need edit bit',\n",
              " 'oh think figur cornucopiaamaz like chocol cover one yyuumm',\n",
              " 'well dollar hand tourney yesterday good',\n",
              " 'shit lame foreal hey follow',\n",
              " 'thx fb u like go amp get album mine free donat great time',\n",
              " 'hahaha yeaaa that good onenotebook',\n",
              " 'giirl u better take care shit lol goodnight tweeti',\n",
              " 'bden new puppi cute love pic',\n",
              " 'morn tweet devil ot nd',\n",
              " 'agre sir',\n",
              " 'need talk well life pretti good fun stalk',\n",
              " 'nice spring day bird tweet away',\n",
              " 'hater your done soon enjoy last time hah',\n",
              " 'meh know polit correct your color guy',\n",
              " 'buy cheapest good thing that got mac mini',\n",
              " 'think cover lucki jason mraz colbi caillat',\n",
              " 'asleep',\n",
              " 'silli danc tryout friday find today made could wish luck amp pray pleas',\n",
              " 'difficult extract wall garden hm blame w c everybodi els softlockin',\n",
              " 'updat profileit hard fit char twitter malta',\n",
              " 'thank bring ticket today',\n",
              " 'suppos gonna drink twitter anywho',\n",
              " 'thank ye expect sure yet im due ultrasound may grow fast',\n",
              " 'alright follow hope follow back',\n",
              " 'remov expir offer weekend lot expect day today chri',\n",
              " 'bom dia twitvers',\n",
              " 'day hr min la flight',\n",
              " 'everi muscl bodi sore weight greatbut damn middl ear problem whing whing haha',\n",
              " 'loveeee',\n",
              " 'll hell noand imma wit caus class',\n",
              " 'thought might show tardisd ipod',\n",
              " 'good morn everyon',\n",
              " 'sound hardcor',\n",
              " 'pleasee pick realli realli want pictur',\n",
              " 'what weather like london bright sunni warm look like spring',\n",
              " 'great movi keep good work',\n",
              " 'watch becom jane aww jame mcavoy irresist hawwttt',\n",
              " 'imo superstar hush feel realli btub long weekend',\n",
              " 'let us weird busi see lol',\n",
              " 'aw your cutest jersey send love especi tini dog',\n",
              " 'tweet mean zero updat unaccept unless drink tea two eat tofu tutu',\n",
              " 'heh fame celebr refug look narcissist',\n",
              " 'music help sleepless night',\n",
              " 'stay late help friend',\n",
              " 'hehe ermso googl thingit pretti cool gonna next cover',\n",
              " 'dont start accus us get',\n",
              " 'jpn koto longer amp string carri koto amp taiko part time job',\n",
              " 'sun shine',\n",
              " 'look use realtek ubuntu server lt',\n",
              " 'great thank thing end',\n",
              " 'look forward see plan go back next year',\n",
              " 'set new macbook',\n",
              " 'good morn ppl hope get rid monday morn feel',\n",
              " 'final broke got tix yesterdayso ill seein ya tampa fo sho cant wait til august',\n",
              " 'yee oh id love see anytim town',\n",
              " 'ewww wateri tea bag brew second peopl',\n",
              " 'chang name kinda match mi real name peopl know find better plu elliewoo fun say',\n",
              " 'mmmm ate yesterday',\n",
              " 'didnt pick im tri escal someon gonna leav easi',\n",
              " 'hah broke',\n",
              " 'eeeehhh doubl scoop ice cream lunch today bliss x dessert bar promot rm',\n",
              " 'umm realli im fond make event would make nervou',\n",
              " 'dont pop see england perfect opportun talk busi think',\n",
              " 'im repli',\n",
              " 'rather nervou neighbour amount smoke produc obscur humbl natur littl bonfir',\n",
              " 'last thing know stay bless everyon',\n",
              " 'hope good news week',\n",
              " 'good morn',\n",
              " 'creativ thing speed experi jetblu though ankl hurt littl',\n",
              " 'good morn twitter critter',\n",
              " 'ughsoo tiredget readi schooljp soon',\n",
              " 'prefer run nativ osx app',\n",
              " 'msn night id say pretti good',\n",
              " 'good luck uk releas yer album today got love',\n",
              " 'cours left dd start cough etc poor dh',\n",
              " 'greatest th wed anniversari night tonight nhl playoff game watch wife romant',\n",
              " 'new twitter world think ob best use',\n",
              " 'mean make blog invit one reader email mistak ask permiss read',\n",
              " 'great veggi lasagna happi marathon monday boston folk',\n",
              " 'everyon go outsid take deep breath exhaleal well wonder enchant day namast',\n",
              " 'rememb award elementari bear creek nice school recogn hard work',\n",
              " 'take photo danni pl',\n",
              " 'nh terribl solut report side cq daab better v write anyway',\n",
              " 'start step internship may th see',\n",
              " 'enjoy nice cool breez new desk fan',\n",
              " 'im offic speakersheadphon great great track ive got album home',\n",
              " 'post someth moron',\n",
              " 'awesom im glad like im jealou',\n",
              " 'there thing call quit like',\n",
              " 'nope',\n",
              " 'happi birthday great day thank follow',\n",
              " 'thank tweet itali sure',\n",
              " 'put anoth way quotrememb your uniqu like everybodi elsequot',\n",
              " 'pursebuzz coffe',\n",
              " 'chinchilla amaz loaf one kind',\n",
              " 'leav northpoint c g mtg head crabappl middleout tornado shelter safe',\n",
              " 'woken love phone call boy great start monday feel itll great',\n",
              " 'awesom here great week',\n",
              " 'nonfat chai tea latt',\n",
              " 'take care',\n",
              " 'understand gotta work haha chew gum feel like smoke dad big smoker know thing lol',\n",
              " 'walk home school look like loner funni day school today',\n",
              " 'yep stuf great littl app although admit that use',\n",
              " 'hey hey',\n",
              " 'sheepi sheepyher sheepi sheepywak',\n",
              " 'mayb new begin draw follow',\n",
              " 'right wll im bore im go busi mindless crap back inabit',\n",
              " 'yep there one thing fantast support emphas enough keep get better better',\n",
              " 'awww',\n",
              " 'sweet dream twitter',\n",
              " 'gonna drive drill back',\n",
              " 'think enough tweak twitter home pagemight david sall',\n",
              " 'shop',\n",
              " 'hour hai nick',\n",
              " 'goodnight',\n",
              " 'haha thank yo',\n",
              " 'im start realli love runninganoth mile',\n",
              " 'wow gorgeou',\n",
              " 'dentist said teeth good bit clean polish good go',\n",
              " 'thank got work eventu',\n",
              " 'im gonna see raphael saadiq perform live tonight',\n",
              " 'freakin miss guysi want go everi concert cant fresno luv',\n",
              " 'boy back todayyay',\n",
              " 'back later tonight bye beaut friend keep send love xoxo',\n",
              " 'back draw exercis sleep',\n",
              " 'hope like even fiction',\n",
              " 'work dont readd u u need go sleep im sorri made u come great day morrow',\n",
              " 'see doctor yet feel better soon',\n",
              " 'pretti good day today went parko jeremi smith',\n",
              " 'thank much learn still pleas keep awesom work vibe cya friday',\n",
              " 'makapuu beach camera phone awesom captur blue',\n",
              " 'sell ferrari',\n",
              " 'blog pretti lame stori unreleas bike seat tip awesom',\n",
              " 'hey what good roxanna',\n",
              " 'yeah could see pic might provid problem lolz prob less',\n",
              " 'got home bought hey monday album today im glad realli good',\n",
              " 'dont',\n",
              " 'ebay n bought sumit sum special lol',\n",
              " 'love version cool',\n",
              " 'glad hear sweeti rough day im feel much better thank',\n",
              " 'happi st high five dude',\n",
              " 'noth better guy love pluto back',\n",
              " 'im still dev live beij',\n",
              " 'thought lt that part make feel like still care im still',\n",
              " 'amaz day today relax refresh much fun',\n",
              " 'help cultur shock sd join us hooter mv wednesday check support us drink merri',\n",
              " 'think drive dublin berlin someth',\n",
              " 'still figur',\n",
              " 'congrat mate final away cow live flat raini grasland citi head',\n",
              " 'welcom twittervers prerna',\n",
              " 'make giggl',\n",
              " 'lol see gorgeou friend play would make holiday extra special see england',\n",
              " 'thursday didnt follow back tweet',\n",
              " 'radio station nowanoth day',\n",
              " 'im lazi want phone bb still novelti',\n",
              " 'susiewilsondramaprincess melbourn australia question',\n",
              " 'walk run eat laugh eat eat laugh sleep perfect even ahead',\n",
              " 'came home market market watch jash cheerdanc competit fun',\n",
              " 'thank think aloud thrive healthi pressur right fight flight choos fight',\n",
              " 'ummm like vote pweas',\n",
              " 'contempl goal art weekend ye know tuesday',\n",
              " 'easili distract tho cantu look squirrel',\n",
              " 'money issu also wep horrend insecur feel trip stafford come',\n",
              " 'hello kristen love work',\n",
              " 'think im fall love xxx ilovey',\n",
              " 'ok cheer hope amp famili well',\n",
              " 'fare thee well tweetdom',\n",
              " 'good witch bad witch glinda wasnt ugli',\n",
              " 'hey want say hi thank new follow got past day what',\n",
              " 'thank made day',\n",
              " 'ano tong twitter',\n",
              " 'think youd fun talk radio big plan',\n",
              " 'yeah least use twitter babi step reinvent',\n",
              " 'great earli morn workout get readi work',\n",
              " 'woo lesson cancel afternoon',\n",
              " 'gonna go eat lunch yummi veg soup crusti bread',\n",
              " 'countri week',\n",
              " 'actual go delet wordpress minut anybodi use wordpress pleas tell',\n",
              " 'home quiz wooo',\n",
              " 'shape differ materi differ purpos',\n",
              " 'anoth busi day client amp prepe hear next week',\n",
              " 'plan hold one ireland',\n",
              " 'good morn',\n",
              " 'bought ft long puzzl last supper mail wonder mani piec',\n",
              " 'stuck use verizon wireless card stupid internet apart work give go bed earli',\n",
              " 'near bellingham waaaaaay northwest near soviet canada amp ussa border',\n",
              " 'cheesecak factori yay',\n",
              " 'wow need breakk prom tmrw',\n",
              " 'derunkahtwitt woooooooo downtown enjoy last bit sunshin',\n",
              " 'glad graduat parti went well go bed see cousin prom',\n",
              " 'vote seanjohncom face futur im page least last page',\n",
              " 'omggggg later practic tire',\n",
              " 'search new ringtonesim thinkin someth loud hilari know',\n",
              " 'hang best friend give makeov watch camp rock',\n",
              " 'cheer look yummyand fruiti drink respons',\n",
              " 'say hello nath',\n",
              " 'hamthrax glad im kitti swine fine',\n",
              " 'tuck babi barley hang',\n",
              " 'im share',\n",
              " 'murray think im adork',\n",
              " 'local pub call fli pig',\n",
              " 'find interest movi sound like good one',\n",
              " 'way marbella spain see u guy later',\n",
              " 'hope u alotta fun see green day theyr awesom band',\n",
              " 'happi weekend great father good morn yet side globe',\n",
              " 'son came home colleg quotyou definit graduat junerightquotquoty momquot',\n",
              " 'guy go site unlimit free rington',\n",
              " 'okay ill keep look',\n",
              " 'nm regard previou note see account nonalltop tweet',\n",
              " 'feel pretti sleepi want hang tomorrow hope prom kid fun',\n",
              " 'think time kill zombi',\n",
              " 'thank followfriday mention',\n",
              " 'go bed gotta lot energi play littl man pooch',\n",
              " 'good night went dinner mom get paycheck coffe realli lowkey tonight good',\n",
              " 'oh fun love process amp get use result send link make stamp want share',\n",
              " 'hey wasnt messag im wear peac bracelet repres',\n",
              " 'tomorrow im go bright amp earli tent',\n",
              " 'would cool got right monkey made fifth one',\n",
              " 'enough bodi hair qualifi',\n",
              " 'bed time',\n",
              " 'date alway end twitter shouldnt anyth web site',\n",
              " 'ive finish whole bottl wine biggi realli shrink said bottl wont hurt',\n",
              " 'gonna good time screw everyon els',\n",
              " 'oregon got marri oregon',\n",
              " 'know right like quotsuperquot follow',\n",
              " 'thank everyon follow ive realli enjoy tweet may tweet happili amp merrili continu',\n",
              " 'dont know number',\n",
              " 'anonim advantag',\n",
              " 'hope bunni find carrot left',\n",
              " 'got earli took hour nap blowin amp watch movi',\n",
              " 'sure recommend likeeveri scent',\n",
              " 'good night everyon love craig',\n",
              " 'long time twitter monday busi could help revis math good teacher xoxo',\n",
              " 'aww bless',\n",
              " 'late hv alreadi cross dark side havent sticki toffe pud year wish luck amp thk tip ccream',\n",
              " 'lol sound like everi model ever work must get hang',\n",
              " 'debat boy color write pitboard today lol',\n",
              " 'love new profil',\n",
              " 'haha lord heard prayer',\n",
              " 'realli need get fix',\n",
              " 'thank made airport pete passport seem work see ya week',\n",
              " 'awak readi day',\n",
              " 'great look forward feedback',\n",
              " 'hi londi thank compliment love work',\n",
              " 'servic keep track servic avail twitter',\n",
              " 'sofia wont read till get back youll wait line right nowlol day final here lol much fun',\n",
              " 'go fli turkey coupl hour',\n",
              " 'cakeri',\n",
              " 'ye ye',\n",
              " 'nope unexpect happen sister arriv home im gonna spend time',\n",
              " 'follow lc step pratt miss hill havent seen late',\n",
              " 'yehey may pictur na ako',\n",
              " 'love work twilight',\n",
              " 'listen new maccabe stuff',\n",
              " 'assign',\n",
              " 'good morn friend great day',\n",
              " 'new haircut yay',\n",
              " 'locki got vapor rub',\n",
              " 'drinki dranki drunk bed feel nice im listen kaskad cuzwellit gnight suckahz',\n",
              " 'got email euromillion enough set record label least get first round bar',\n",
              " 'im think chickfila kinda morn anderson cmon perryy know wanna',\n",
              " 'look stronger',\n",
              " 'rise shine twitter go feed homeless today get dress set go',\n",
              " 'hey need chat sometim soon hope your ok',\n",
              " 'classic one hit wonder doesnt fail get ya movin come eileen',\n",
              " 'next theyd make penis work art cours theyr respons would quotyou dont understandquot',\n",
              " 'astrodud post man let know arriv wwr piec btw',\n",
              " 'good luck hope your well',\n",
              " 'follow mcfli fate ahahaha',\n",
              " 'thnx found',\n",
              " 'watch one tree hilllllll',\n",
              " 'im make third need fuel busi day fill order',\n",
              " 'cant complain',\n",
              " 'netflix awesom custom servic mention great product',\n",
              " 'cool',\n",
              " 'know your alway earli weekend',\n",
              " 'tweet might well chitchat haha',\n",
              " 'drink much vodka haha yay',\n",
              " 'guess specifi kid need news one',\n",
              " 'quotsumm lookquot mr brogan',\n",
              " 'thank followfriday head',\n",
              " 'thank happi saturday',\n",
              " 'buhahaha time massiv follow furri',\n",
              " 'realiz pit hand toilet thank god noth button wasnt work',\n",
              " 'ps wasnt meblam total',\n",
              " 'think drink ars feck think',\n",
              " 'hooray stalker spi spi find ok win round hide n seek',\n",
              " 'realli great song',\n",
              " 'ill see sinc citi field firsthand knowledg',\n",
              " 'ed westwick hot right',\n",
              " 'well goodnyt tweet tomorrow',\n",
              " 'think templat plurk gue yg skrg gimana hahaha',\n",
              " 'good morn tweep day begin wish luck',\n",
              " 'earli saturday mad',\n",
              " 'watch twlight comentari',\n",
              " 'way work bead store last day home work new jewelri design',\n",
              " 'man would awesom bet kid would get along famous mayb one day happen',\n",
              " 'good look said littl prayer littl one',\n",
              " 'omg rain go sit outsid get soak weton second thought that bad idea gtlt',\n",
              " 'well new colt ill post myspac websit join us myspac',\n",
              " 'enjoy weekend suzi',\n",
              " 'lulu follow twitter',\n",
              " 'like ive awaken',\n",
              " 'case im gonna start tweet nymphoman pub owner like cook well worth shot eh',\n",
              " 'pleasur thank',\n",
              " 'love wolverin',\n",
              " 'hey hun im good thank ye still rememb user pass ima check',\n",
              " 'new day time sit noth hour im gonna home day call wanna talk',\n",
              " 'whew homepag design done done',\n",
              " 'think motion citi soundtrack need start record alreadi',\n",
              " 'thank',\n",
              " 'emot stuff human love accept exactli',\n",
              " 'okay doke u neil',\n",
              " 'ill walk love anim',\n",
              " 'real life offlin dont worri happi',\n",
              " 'gonna buy plane tix convinc wait day monitor price trip confirm',\n",
              " 'high hell havent like forev watch mtv cindi',\n",
              " 'good thank',\n",
              " 'sound realli good well probabl leftov good leftov dijon chicken frittata',\n",
              " 'due three week normal would jump chanc work new project new ppl pretti cover',\n",
              " 'agre friend work citrix use work appl confirm well done',\n",
              " 'listen mix cd kayla burn',\n",
              " 'send sun way plz nyc call lotsa rain',\n",
              " 'next post sent star right star lil swirli arrowthat arrow sign',\n",
              " 'time disconnect fantast dinner wait great friendscant get enough',\n",
              " 'lol sure haha gt paypal',\n",
              " 'well saw inkheart quit enjoy realli',\n",
              " 'saw gentlemen honor societi soundcheck',\n",
              " '',\n",
              " 'hellogoodby walkingdist hous exactli hour bad cant go',\n",
              " 'wowzersi twitter absent whilefunilli enoughno wthdrawal symptom woo hooi addict',\n",
              " 'thank follow new icon look great',\n",
              " 'love smile yea old school rampb',\n",
              " 'think im gonna demand pic one',\n",
              " 'quicki workout amp watch satc',\n",
              " 'hi school model search work today aka employe get dress like theyr win',\n",
              " 'ow burn didnt go away month feel better',\n",
              " 'anyon els live area resist chang hard get peopl join quotgreenquot movement frustrat',\n",
              " 'last min trip austin woot',\n",
              " 'hair done',\n",
              " 'monkey minion',\n",
              " 'well hello rain mother natur way forc wear hair curli formal tonight haha',\n",
              " 'ltwatch u love mlg',\n",
              " 'well im go go bed tri sleep sick good night',\n",
              " 'oh well ti first time',\n",
              " 'deker think site stupid dont care he still sweeti',\n",
              " 'first day twitter world complet sure goodnight world',\n",
              " 'problem',\n",
              " 'one song littl boom boom pow bed yay late night',\n",
              " 'arriv north carolina',\n",
              " 'wait leav watch wed crasher',\n",
              " 'saturday night',\n",
              " 'that quit endors ill request key golden palac',\n",
              " 'meow loud meow ass meow floor laugh',\n",
              " 'sound good',\n",
              " 'eurovis exactli',\n",
              " 'glad ya like think blue moon that accept dude',\n",
              " 'damn youtub delet ill find tweet',\n",
              " 'damn that suck well guess tri next time alreadi follow hehe',\n",
              " 'oh melbourn least u kick goal last qtr',\n",
              " 'start paint old bath use flower bed iz creativ',\n",
              " 'goodjust woke tweetbrk napgettin tweet onwhoot whoot',\n",
              " 'keep preserv share recip pickl sure',\n",
              " 'lmao told laker armi myspac go jump',\n",
              " 'isnt past bedtim kid',\n",
              " 'pleas visit follow site dont afraid',\n",
              " 'peopl get ont twitterto late go facebook',\n",
              " 'got messag board talk prop marriag',\n",
              " 'heyi check ur music ur myspac love xx lt',\n",
              " 'im raspberryfilledchocolateravioli high',\n",
              " 'got tweeti ipod touch pretti sweet ha got chanc listen fleet fox yet theyr lolla',\n",
              " 'man crazi connect world creat take step back freak',\n",
              " 'im gonna restart comput super quick ill min',\n",
              " 'good luck today fun dont fall',\n",
              " 'true',\n",
              " 'hahahaha luhhh lt ttyt',\n",
              " 'guess',\n",
              " 'hello world good morn sunshin good see im fine',\n",
              " 'morn bob hope good day today',\n",
              " 'nice meet u im chile wait ur answer',\n",
              " 'watch v v turn goodnight',\n",
              " 'figur want dream build',\n",
              " 'got clubbin im feel way awak wanna go anoth round dammit',\n",
              " 'blipfm song post twitter',\n",
              " 'like outer circl inner circlestep back lot distract thank',\n",
              " 'thank ill tweet updat',\n",
              " 'gettin ticket dour',\n",
              " 'thank much ff beauti sunday',\n",
              " '',\n",
              " 'jay brother soooo tire',\n",
              " 'read quotatmospheremongeringquot see mistak sorri interrupt',\n",
              " 'maryborough rsl guy electr guitar play great music sweet home alabama april sun cuba',\n",
              " 'shower soon read geopolit listen king leon',\n",
              " 'home relax cant wait see besti morrw hope well enough go citi woot',\n",
              " 'mannn im amp quotand mequot breakup banga turn sexi slow ballad gon hott',\n",
              " 'inde someon said pertin question quotwhi u still speak esperantoquot',\n",
              " 'good morn world idea im earli let chat hit cell wanna',\n",
              " 'thank laugh hope pig start worldwid panic well',\n",
              " 'lt xmen sooo mani hot men yumm',\n",
              " 'repli post thank hug',\n",
              " 'sure',\n",
              " 'minut till get smelli cast lol rip fat ranga c lololol see fighter lol',\n",
              " 'hungov stop drink last night bodi said still lie bed make tea coffe',\n",
              " 'candydont stop believ',\n",
              " 'watch logi eat home made pie pj awesom night',\n",
              " 'sent email toni blackburn blame lol',\n",
              " 'good sunday twitter ride die peep',\n",
              " 'that game know great day',\n",
              " 'oh hangov kick like everyon sunni sunday afternoon',\n",
              " 'im visit kimbobl',\n",
              " 'heck ye hate stuff anyway doesnt say buy',\n",
              " 'sushi could mistak made bigger one',\n",
              " 'drink cognac yesterday afternoon actual ye medicin purpos must think',\n",
              " 'ty folfriday recommend your twitter cheer thankyou gmoney',\n",
              " 'follow dare',\n",
              " 'join forc great night end stay booti beast social night jam thank',\n",
              " 'pacquiao he realli one filipino pride',\n",
              " 'ook im goign watch he hope good',\n",
              " 'good luck sophia',\n",
              " '',\n",
              " 'via look like cross denis ozzi',\n",
              " 'scope phill thank model playboy',\n",
              " 'last minut rhu monday interest peopl inspir present juici steak',\n",
              " 'northant motley moot beltain picnic sun woop woop',\n",
              " 'yeah ill surviv went doctor bit wors flu good day',\n",
              " 'drink milk eat yummi cooki life',\n",
              " 'might wet excit day footi sun wine pizza liv',\n",
              " 'part quotbankquot group westminst still got theme',\n",
              " 'dave matthew best',\n",
              " 'watch jona',\n",
              " 'anfield wait game start',\n",
              " 'amaz hahahah thank couldnt believ saw realli sweet yess song',\n",
              " 'problem great look forward see tweet',\n",
              " 'know find new layout hard',\n",
              " 'lol guess express',\n",
              " 'ohh boy crazi marlatt',\n",
              " 'sound like viz top tip true',\n",
              " 'thank account info verifi got rid fake jordan last night thank truthtweet impostor',\n",
              " 'bye',\n",
              " 'wakingup bright earli sunday feel good',\n",
              " 'readi time church',\n",
              " 'still definit worth get one',\n",
              " 'pretti good even resembl bit comic gave year ago',\n",
              " 'dude total found someon look like last night amaz say least',\n",
              " 'staff room bore need sit',\n",
              " 'oh real shown would love check outcongrat get gig',\n",
              " 'didnt know year old rode bmx that cute hahaha',\n",
              " 'hoppusday happi hoppu day rock',\n",
              " 'way church wow sore jog skate bowl',\n",
              " 'talk footbal lunchtimeanyth wors happi hoppusday everyon mother day fuckinamptouchinampsuckin hahhah',\n",
              " 'open coffe shop weekend',\n",
              " 'still wait follow helper pleas',\n",
              " 'btw love extra organ solo pm last night',\n",
              " 'go mall',\n",
              " 'late reaction filipino pride vatti record match',\n",
              " 'neither',\n",
              " 'hahai went red mine love',\n",
              " 'give pughug pass three pughug free hug anyon pawpawti',\n",
              " 'corner bathroom obtain said bead',\n",
              " 'dont feel well think colleg tuesday make wors haha',\n",
              " 'check blip playlist im sure youd make great store though earn real kudo amp legal free music',\n",
              " 'good morn mark hope your enjoy hoppusday thing',\n",
              " 'recov camp rave last bank holiday',\n",
              " 'good morn finish appl fritter breakfast fruit serv day',\n",
              " 'sheff wed fan im moon well done inde birmingham',\n",
              " 'back newark airport termin wait board flight go see rayray afternoon',\n",
              " 'love thowil def keep thatthank much info rock happi sunday',\n",
              " 'mmm french toast',\n",
              " 'woke derek sheppard voic',\n",
              " 'chang life thankyou love much god bless hero',\n",
              " 'shop brunch pour rain love gf cant wait see today fb',\n",
              " 'relax hard shop day',\n",
              " 'ohkay new obbess secret handshak check em',\n",
              " 'listen show whilst cook good laura kelli heidi sarah x',\n",
              " 'download hm movi better work timeand alreadi',\n",
              " 'im definit feel better',\n",
              " 'aahh cuddi power truli sexi',\n",
              " 'haha aww tri focu fail googl answer haha',\n",
              " 'dont care n e say smith rock back n day',\n",
              " 'use ai anyway get power go use us batteri',\n",
              " 'ye xoxo',\n",
              " 'your welcom',\n",
              " 'sorri like watch movi explooos big screen',\n",
              " 'hello everybodi',\n",
              " 'good sunday morn rain im go make potato soup dinner rest day lazi day',\n",
              " 'thnx gurli mom promis win whole thing shell buy new tenni cloth im shop tenni place right',\n",
              " 'hey brudder miss sooo much come back tour see',\n",
              " 'aaaand final laptop fulli charg yay',\n",
              " 'ahaha your funni',\n",
              " 'love heaven help us favourit bside histori ever',\n",
              " 'play volleybal ammm dont know hahaha love ya girll julil',\n",
              " 'watch butter challeng iron chef love watch iron chef im bord',\n",
              " 'eat famili',\n",
              " 'tri ask im sure happi help',\n",
              " 'ohhhh sorri miss fun work fl isnt bad either orlando west coast fl',\n",
              " 'dont worryi wont forget go backstag show ill',\n",
              " 'eat balut your dude dont ask much',\n",
              " 'homeplay texa holdem',\n",
              " 'got hey monday shirt',\n",
              " 'final home ampamp rain gloomi day guess ill ju sit home ampamp watch movi ampamp eat popcorn dayi',\n",
              " 'month work form home time',\n",
              " 'go bath gotta start microcontrol prep moro xam',\n",
              " 'great hang napoconf hope your fun disney',\n",
              " 'oooo theyr play off',\n",
              " 'enriqu iglesia denmark woooaw coool b',\n",
              " 'play sim talk phone alexandra birthday day',\n",
              " 'lay bed watch moviethinkin nap',\n",
              " 'plan birthday partayyyi',\n",
              " 'much run around today least product day time relax prepar anoth work week',\n",
              " 'favorit line song',\n",
              " 'e l b w f v e love demi sit outsid thank good outdoor wifi',\n",
              " 'hahaha may b next week',\n",
              " 'leav go back chicago back move th dont miss much',\n",
              " 'look ahead readi make awesom week want get sunday night know total rock go woohoo',\n",
              " 'amaz im procrastin today actual get free time tonight',\n",
              " 'yeah hannah montana one like song haha cool x',\n",
              " 'whoothat crazaaay',\n",
              " 'im excit see',\n",
              " 'drove tucker chillin oh im crazi haha littl ilybff llt',\n",
              " 'everyon want look like coupla year ago honestli noth worri',\n",
              " 'podcast episod upload type subscrib pleas thank',\n",
              " 'naptim thanx followersi hit today thank part tweet fam',\n",
              " 'went see wolverin',\n",
              " 'hey im gonna pa midmayw tri connect amp lunch one day perhap',\n",
              " 'got jaim right',\n",
              " 'tri dress get readi chariti event tomorrow southampton glass wine glass',\n",
              " 'oh hey welcom crack youll get use',\n",
              " 'u nurs battl wound ampheart',\n",
              " 'follow follow away help',\n",
              " 'especi sinc didnt rain',\n",
              " 'noth leg warmer cant fix',\n",
              " 'ferngulli',\n",
              " 'holi shit',\n",
              " 'awee babi mamma hope tomorrow better',\n",
              " 'twothird actual',\n",
              " 'cant say anyth great song',\n",
              " 'supa bore fix aim itll everyon get twitter updat deliv',\n",
              " 'recommend tea parti',\n",
              " 'aww thank even dontjust say love thing',\n",
              " 'thank much go proud papa mode tri post everi singl pic',\n",
              " 'thank follow hint never figur twitter outloljust enjoy',\n",
              " 'forget longer live texa good bbq good steak',\n",
              " 'time bed earli shift tomorrow',\n",
              " 'got email im friend get home sure repli cant wait check',\n",
              " 'minitrip erin florida june got better',\n",
              " 'oh well saw knew meant',\n",
              " 'thank follow',\n",
              " 'much season right thing pick june festiv',\n",
              " 'alway fun time ilyc love em',\n",
              " 'when new album come canada',\n",
              " 'im follow u man follow',\n",
              " 'butttt mine u eeeat ummm im gna tri tooo',\n",
              " 'pleas make saturday',\n",
              " 'yep ps im replay favorit kh im avoid homework play save tomorrow',\n",
              " 'hope roomi wont becom obsess tri kill like one movi singl white femal',\n",
              " 'u rdi masterb hun cuz',\n",
              " 'tho applaud parent make otherwis today would noth reflect made interest lesson',\n",
              " 'red ut sand lash extens',\n",
              " 'way pick patti',\n",
              " 'byl',\n",
              " 'ye',\n",
              " 'hey homi happi birthday massiv',\n",
              " 'believ elvi work burger king know khlo definatli bit mysteri',\n",
              " 'say hi tweeter hope everybodi bless weekend one day weekend pop',\n",
              " 'check celeb need intern examin column',\n",
              " 'new comput woot',\n",
              " 'long snore couch rulz',\n",
              " 'alright ill leav guy song bye bye third eye blind semi charm life',\n",
              " 'brainstorm design love',\n",
              " 'go improv qualiti life end great posit other know',\n",
              " 'cant read cant read cant read poker face lalala',\n",
              " 'im happi content',\n",
              " 'oh ok haha im anoth citi theyr capit',\n",
              " 'omg luve wait see kri monkey',\n",
              " 'let see what demand catch guy later amp good luck hun',\n",
              " 'alway welcom',\n",
              " 'good nite everyon best wish final student amp rest u real world tri enjoy ur work week p',\n",
              " 'yess know omg cant wait till come back laaa',\n",
              " 'hmm let see work yak yak cool yak call water bison asia momo fli bison avatar',\n",
              " 'unexpect twist turn dvd hooray cant wait jog littl gray cell',\n",
              " 'never occur',\n",
              " 'final met someon first time today tri long haha',\n",
              " 'ward ward live',\n",
              " 'awesom got busi two week uni birthday melbourn',\n",
              " 'paper didnt mention anyth hit blogout earli year well',\n",
              " 'lol thank wasnt tri steal show',\n",
              " 'found got push chair hit head wheelbarrow last night took beat thank vodka',\n",
              " 'learn good news ad david congratul cant wait see',\n",
              " 'cheer man',\n",
              " 'im crossroad hair cut colourbraid winter exam soon',\n",
              " 'well need get bed chat everyon tomorrow',\n",
              " 'british expat twitt tommi giant sprout especi fli part sprout sea',\n",
              " 'dyeded hair',\n",
              " '',\n",
              " 'fanci hun got u doin thing u aint never done',\n",
              " 'realli needa find stastic',\n",
              " 'invit join group second life call quotballist autisticsquot cute name',\n",
              " 'gonna get tan white',\n",
              " 'hr time uni wait start st exam scari work hard morn though feel ok atm',\n",
              " 'thank hint',\n",
              " 'good morn haha read swine flu probabl come pig peopl poor pig got blame',\n",
              " 'play',\n",
              " 'yeah lookout tweet happi tweet',\n",
              " 'goodnight cuppycak hope good day dont feel blah xxoo',\n",
              " 'get dinner',\n",
              " 'wolverin great must see',\n",
              " 'forget edinburgh check edinburghacorguk',\n",
              " 'deplurk buhbyee',\n",
              " 'eat tito home made ice cream yum',\n",
              " 'drill sergeant voic everybodi wake fuck flick everyon light est rise shine beetch lol jk',\n",
              " ...]"
            ]
          },
          "metadata": {},
          "execution_count": 34
        }
      ]
    },
    {
      "cell_type": "markdown",
      "metadata": {
        "id": "Iow7hacmdgFd"
      },
      "source": [
        "## **Creating TFIDF**"
      ]
    },
    {
      "cell_type": "code",
      "metadata": {
        "id": "l2miaFRIdPET"
      },
      "source": [
        "from sklearn.feature_extraction.text import TfidfVectorizer\n",
        "tfv=TfidfVectorizer()\n",
        "X=tfv.fit_transform(corpus).toarray()\n",
        "y=train[\"label\"]"
      ],
      "execution_count": 35,
      "outputs": []
    },
    {
      "cell_type": "markdown",
      "metadata": {
        "id": "aEK7J5WZdoMa"
      },
      "source": [
        "## **Splitting Dataset**"
      ]
    },
    {
      "cell_type": "code",
      "metadata": {
        "colab": {
          "base_uri": "https://localhost:8080/"
        },
        "id": "494gZ3iI8ZvD",
        "outputId": "56418c7a-ae1a-4fb9-f5fe-9d0522b07314"
      },
      "source": [
        "#taking dictionary size 5000\n",
        "vocab_size = 5000\n",
        "\n",
        "#one hot encoding\n",
        "one_hot_dir = [one_hot(words,vocab_size) for words in corpus]\n",
        "\n",
        "#length of all rows should be equal therefore applying padding\n",
        "#this will adjust size by adding 0 at staring of the shorter rows\n",
        "embedded_layer = pad_sequences(one_hot_dir,padding = 'pre')\n",
        "embedded_layer"
      ],
      "execution_count": 36,
      "outputs": [
        {
          "output_type": "execute_result",
          "data": {
            "text/plain": [
              "array([[   0,    0,    0, ..., 1940, 1283, 3872],\n",
              "       [   0,    0,    0, ...,    0, 1290, 3271],\n",
              "       [   0,    0,    0, ...,    0,    0,    0],\n",
              "       ...,\n",
              "       [   0,    0,    0, ..., 1129, 1795, 4979],\n",
              "       [   0,    0,    0, ..., 1129, 2057, 1616],\n",
              "       [   0,    0,    0, ...,    0,    0,    0]], dtype=int32)"
            ]
          },
          "metadata": {},
          "execution_count": 36
        }
      ]
    },
    {
      "cell_type": "code",
      "metadata": {
        "id": "I9uQWQJo8wqf"
      },
      "source": [
        "X = np.array(embedded_layer)\n",
        "y = np.array(y)"
      ],
      "execution_count": 37,
      "outputs": []
    },
    {
      "cell_type": "code",
      "metadata": {
        "id": "9RoKSz8HdrXt"
      },
      "source": [
        "from sklearn.model_selection import train_test_split\n",
        "X_train,X_test,y_train,y_test=train_test_split(X,y,test_size=0.2,random_state=0)"
      ],
      "execution_count": 38,
      "outputs": []
    },
    {
      "cell_type": "code",
      "metadata": {
        "colab": {
          "base_uri": "https://localhost:8080/"
        },
        "id": "nrPcbf0Adxkj",
        "outputId": "2d028c3a-c287-4c44-a3cf-e40128b16fcb"
      },
      "source": [
        "X_train.shape,y_train.shape"
      ],
      "execution_count": 39,
      "outputs": [
        {
          "output_type": "execute_result",
          "data": {
            "text/plain": [
              "((8251, 50), (8251,))"
            ]
          },
          "metadata": {},
          "execution_count": 39
        }
      ]
    },
    {
      "cell_type": "code",
      "metadata": {
        "colab": {
          "base_uri": "https://localhost:8080/"
        },
        "id": "ruAM8ZxXd5rd",
        "outputId": "584966b6-f457-4494-a6dc-1cd2421f5073"
      },
      "source": [
        "X_test.shape,y_test.shape"
      ],
      "execution_count": 40,
      "outputs": [
        {
          "output_type": "execute_result",
          "data": {
            "text/plain": [
              "((2063, 50), (2063,))"
            ]
          },
          "metadata": {},
          "execution_count": 40
        }
      ]
    },
    {
      "cell_type": "code",
      "metadata": {
        "colab": {
          "base_uri": "https://localhost:8080/"
        },
        "id": "NLnVvZLwvrWd",
        "outputId": "3fa8f899-6498-485c-806d-e81a7886ed14"
      },
      "source": [
        "print(X_train[3])"
      ],
      "execution_count": 41,
      "outputs": [
        {
          "output_type": "stream",
          "name": "stdout",
          "text": [
            "[   0    0    0    0    0    0    0    0    0    0    0    0    0    0\n",
            "    0    0    0    0    0    0    0    0    0    0    0    0    0    0\n",
            "    0    0    0    0    0  249 4341 1170 2518  999 1747 1085  113 2532\n",
            "   50 4459 4885 4491 2058 4341 4423 4773]\n"
          ]
        }
      ]
    },
    {
      "cell_type": "markdown",
      "metadata": {
        "id": "_MG6bN1iD6DW"
      },
      "source": [
        "# **Model**\n",
        "\n",
        "---"
      ]
    },
    {
      "cell_type": "code",
      "metadata": {
        "colab": {
          "base_uri": "https://localhost:8080/"
        },
        "id": "5brYXEKY90Wt",
        "outputId": "bffd2f39-74ab-40f0-bfb6-685e90394bd8"
      },
      "source": [
        "embed_vec_length = 32\n",
        "model = Sequential()\n",
        "model.add(Embedding(vocab_size,embed_vec_length,input_length = len(X_train[0])))\n",
        "model.add(Conv1D(128, 3, activation='relu'))\n",
        "model.add(MaxPooling1D(2))\n",
        "model.add(Conv1D(128, 3, activation='relu'))\n",
        "model.add(MaxPooling1D(2))\n",
        "model.add(Flatten())\n",
        "model.add(Dense(1, activation='sigmoid'))\n",
        "model.compile(optimizer='adam',\n",
        "              loss=\"binary_crossentropy\",\n",
        "              metrics=['accuracy'])\n",
        "model.summary()"
      ],
      "execution_count": 42,
      "outputs": [
        {
          "output_type": "stream",
          "name": "stdout",
          "text": [
            "Model: \"sequential\"\n",
            "_________________________________________________________________\n",
            "Layer (type)                 Output Shape              Param #   \n",
            "=================================================================\n",
            "embedding (Embedding)        (None, 50, 32)            160000    \n",
            "_________________________________________________________________\n",
            "conv1d (Conv1D)              (None, 48, 128)           12416     \n",
            "_________________________________________________________________\n",
            "max_pooling1d (MaxPooling1D) (None, 24, 128)           0         \n",
            "_________________________________________________________________\n",
            "conv1d_1 (Conv1D)            (None, 22, 128)           49280     \n",
            "_________________________________________________________________\n",
            "max_pooling1d_1 (MaxPooling1 (None, 11, 128)           0         \n",
            "_________________________________________________________________\n",
            "flatten (Flatten)            (None, 1408)              0         \n",
            "_________________________________________________________________\n",
            "dense (Dense)                (None, 1)                 1409      \n",
            "=================================================================\n",
            "Total params: 223,105\n",
            "Trainable params: 223,105\n",
            "Non-trainable params: 0\n",
            "_________________________________________________________________\n"
          ]
        }
      ]
    },
    {
      "cell_type": "code",
      "metadata": {
        "colab": {
          "base_uri": "https://localhost:8080/"
        },
        "id": "omussdZE_8Z_",
        "outputId": "4c2f3d23-de74-40a6-99b6-f057ad2929a6"
      },
      "source": [
        "history = model.fit(X_train, y_train, validation_data = (X_test,y_test), epochs = 10, batch_size = 256)"
      ],
      "execution_count": 43,
      "outputs": [
        {
          "output_type": "stream",
          "name": "stdout",
          "text": [
            "Epoch 1/10\n",
            "33/33 [==============================] - 33s 27ms/step - loss: 0.5448 - accuracy: 0.7721 - val_loss: 0.4988 - val_accuracy: 0.7630\n",
            "Epoch 2/10\n",
            "33/33 [==============================] - 0s 15ms/step - loss: 0.4147 - accuracy: 0.8317 - val_loss: 0.3495 - val_accuracy: 0.8711\n",
            "Epoch 3/10\n",
            "33/33 [==============================] - 0s 13ms/step - loss: 0.1929 - accuracy: 0.9299 - val_loss: 0.1545 - val_accuracy: 0.9404\n",
            "Epoch 4/10\n",
            "33/33 [==============================] - 0s 14ms/step - loss: 0.0579 - accuracy: 0.9816 - val_loss: 0.0852 - val_accuracy: 0.9733\n",
            "Epoch 5/10\n",
            "33/33 [==============================] - 0s 15ms/step - loss: 0.0199 - accuracy: 0.9962 - val_loss: 0.0653 - val_accuracy: 0.9787\n",
            "Epoch 6/10\n",
            "33/33 [==============================] - 0s 14ms/step - loss: 0.0123 - accuracy: 0.9977 - val_loss: 0.0645 - val_accuracy: 0.9816\n",
            "Epoch 7/10\n",
            "33/33 [==============================] - 0s 14ms/step - loss: 0.0089 - accuracy: 0.9981 - val_loss: 0.0665 - val_accuracy: 0.9806\n",
            "Epoch 8/10\n",
            "33/33 [==============================] - 0s 13ms/step - loss: 0.0067 - accuracy: 0.9984 - val_loss: 0.0708 - val_accuracy: 0.9796\n",
            "Epoch 9/10\n",
            "33/33 [==============================] - 0s 13ms/step - loss: 0.0053 - accuracy: 0.9985 - val_loss: 0.0723 - val_accuracy: 0.9787\n",
            "Epoch 10/10\n",
            "33/33 [==============================] - 0s 14ms/step - loss: 0.0044 - accuracy: 0.9990 - val_loss: 0.0735 - val_accuracy: 0.9792\n"
          ]
        }
      ]
    },
    {
      "cell_type": "code",
      "metadata": {
        "colab": {
          "base_uri": "https://localhost:8080/"
        },
        "id": "WcXQnqJ1uFJ7",
        "outputId": "837c5c94-fa52-418b-c02b-45c63f5a68f3"
      },
      "source": [
        "model.save('/content/')"
      ],
      "execution_count": 44,
      "outputs": [
        {
          "output_type": "stream",
          "name": "stdout",
          "text": [
            "INFO:tensorflow:Assets written to: /content/assets\n"
          ]
        }
      ]
    },
    {
      "cell_type": "code",
      "metadata": {
        "id": "JC2LB7M6lClJ"
      },
      "source": [
        "import matplotlib.pyplot as plt\n",
        "\n",
        "\n",
        "def plot_graphs(history, string):\n",
        "    plt.plot(history.history[string])\n",
        "    plt.plot(history.history['val_'+string])\n",
        "    plt.xlabel(\"Epochs\")\n",
        "    plt.ylabel(string)\n",
        "    plt.legend([string, 'val_'+string])\n",
        "    plt.show()"
      ],
      "execution_count": 45,
      "outputs": []
    },
    {
      "cell_type": "code",
      "metadata": {
        "colab": {
          "base_uri": "https://localhost:8080/",
          "height": 279
        },
        "id": "qg-JjaQ2lEZS",
        "outputId": "d7f994d9-da7f-4a06-bf07-3d89b7f73197"
      },
      "source": [
        "plot_graphs(history, \"accuracy\")"
      ],
      "execution_count": 46,
      "outputs": [
        {
          "output_type": "display_data",
          "data": {
            "image/png": "[encoded data removed]",
            "text/plain": [
              "<Figure size 432x288 with 1 Axes>"
            ]
          },
          "metadata": {
            "needs_background": "light"
          }
        }
      ]
    },
    {
      "cell_type": "code",
      "metadata": {
        "colab": {
          "base_uri": "https://localhost:8080/",
          "height": 279
        },
        "id": "FxWdgYmSlRvQ",
        "outputId": "21609015-7fc3-4723-f86c-99d20aef4a45"
      },
      "source": [
        "plot_graphs(history, \"loss\")"
      ],
      "execution_count": 47,
      "outputs": [
        {
          "output_type": "display_data",
          "data": {
            "image/png": "[encoded data removed]",
            "text/plain": [
              "<Figure size 432x288 with 1 Axes>"
            ]
          },
          "metadata": {
            "needs_background": "light"
          }
        }
      ]
    },
    {
      "cell_type": "code",
      "metadata": {
        "id": "1LkoW3GHAgbt"
      },
      "source": [
        "y_pred = model.predict(X_test)\n",
        "y_pred = (y_pred > 0.5)"
      ],
      "execution_count": 48,
      "outputs": []
    },
    {
      "cell_type": "code",
      "metadata": {
        "colab": {
          "base_uri": "https://localhost:8080/"
        },
        "id": "09CTwhToBj2Q",
        "outputId": "27e35cbd-bb4e-434d-8942-ded8373413cc"
      },
      "source": [
        "len(y_pred)"
      ],
      "execution_count": 49,
      "outputs": [
        {
          "output_type": "execute_result",
          "data": {
            "text/plain": [
              "2063"
            ]
          },
          "metadata": {},
          "execution_count": 49
        }
      ]
    },
    {
      "cell_type": "code",
      "metadata": {
        "colab": {
          "base_uri": "https://localhost:8080/"
        },
        "id": "9rGZ-oOaAql_",
        "outputId": "6b50287c-bb6a-41ff-e366-6d164171528b"
      },
      "source": [
        "from sklearn.metrics import confusion_matrix\n",
        "confusion_matrix(y_test,y_pred)"
      ],
      "execution_count": 50,
      "outputs": [
        {
          "output_type": "execute_result",
          "data": {
            "text/plain": [
              "array([[1562,   11],\n",
              "       [  32,  458]])"
            ]
          },
          "metadata": {},
          "execution_count": 50
        }
      ]
    },
    {
      "cell_type": "code",
      "metadata": {
        "id": "KdJL3pihk8vP"
      },
      "source": [
        "from sklearn.metrics import accuracy_score\n",
        "from sklearn.metrics import precision_score\n",
        "from sklearn.metrics import recall_score\n",
        "from sklearn.metrics import f1_score\n",
        "from sklearn.metrics import confusion_matrix\n",
        "from sklearn.metrics import plot_confusion_matrix"
      ],
      "execution_count": 51,
      "outputs": []
    },
    {
      "cell_type": "code",
      "metadata": {
        "colab": {
          "base_uri": "https://localhost:8080/"
        },
        "id": "D_I1iCEqm1YA",
        "outputId": "4ac07a66-5923-4b53-a2b1-ed263662c77d"
      },
      "source": [
        "# accuracy: (tp + tn) / (p + n)\n",
        "accuracy = accuracy_score(y_test,y_pred)\n",
        "print('Accuracy: %f' % accuracy)\n",
        "\n",
        "# precision tp / (tp + fp)\n",
        "precision = precision_score(y_test,y_pred)\n",
        "print('Precision: %f' % precision)\n",
        "\n",
        "# recall: tp / (tp + fn)\n",
        "recall = recall_score(y_test,y_pred)\n",
        "print('Recall: %f' % recall)\n",
        "\n",
        "# f1: 2 tp / (2 tp + fp + fn)\n",
        "f1 = f1_score(y_test,y_pred)\n",
        "print('F1 score: %f' % f1)\n",
        "\n",
        "# confusion matrix\n",
        "matrix = confusion_matrix(y_test,y_pred)\n",
        "print(matrix)"
      ],
      "execution_count": 52,
      "outputs": [
        {
          "output_type": "stream",
          "name": "stdout",
          "text": [
            "Accuracy: 0.979157\n",
            "Precision: 0.976546\n",
            "Recall: 0.934694\n",
            "F1 score: 0.955162\n",
            "[[1562   11]\n",
            " [  32  458]]\n"
          ]
        }
      ]
    },
    {
      "cell_type": "code",
      "metadata": {
        "colab": {
          "base_uri": "https://localhost:8080/",
          "height": 285
        },
        "id": "2CnOiUgW_uB6",
        "outputId": "44ed98a5-d783-41fd-efe3-bf8bb15fdb3e"
      },
      "source": [
        "import seaborn as sns\n",
        "sns.set()\n",
        "scores = ['accuracy','precision','recall','f1']\n",
        "values = [accuracy,precision,recall,f1]\n",
        "sns.barplot(x=scores,y=values)"
      ],
      "execution_count": 53,
      "outputs": [
        {
          "output_type": "execute_result",
          "data": {
            "text/plain": [
              "<matplotlib.axes._subplots.AxesSubplot at 0x7f92c5853050>"
            ]
          },
          "metadata": {},
          "execution_count": 53
        },
        {
          "output_type": "display_data",
          "data": {
            "image/png": "[encoded data removed]",
            "text/plain": [
              "<Figure size 432x288 with 1 Axes>"
            ]
          },
          "metadata": {}
        }
      ]
    },
    {
      "cell_type": "code",
      "metadata": {
        "colab": {
          "base_uri": "https://localhost:8080/",
          "height": 285
        },
        "id": "RgsVfrfg5jLn",
        "outputId": "ba5ccc0a-35f1-49f9-8f5b-ec4a07998288"
      },
      "source": [
        "sns.heatmap(matrix, annot=True, fmt=\"d\", cmap =\"Blues\") # font size\n",
        "plt.xlabel(\"Predicted label\") \n",
        "plt.ylabel(\"True label\") \n",
        "plt.show()"
      ],
      "execution_count": 54,
      "outputs": [
        {
          "output_type": "display_data",
          "data": {
            "image/png": "[encoded data removed]",
            "text/plain": [
              "<Figure size 432x288 with 2 Axes>"
            ]
          },
          "metadata": {}
        }
      ]
    },
    {
      "cell_type": "markdown",
      "metadata": {
        "id": "uisE00_CEJuJ"
      },
      "source": [
        "# **Prediction**\n",
        "\n",
        "---\n",
        "\n"
      ]
    },
    {
      "cell_type": "code",
      "metadata": {
        "id": "8Ym0YVaAqXp1"
      },
      "source": [
        "import tensorflow as tf\n",
        "def predict_sentiment(text):\n",
        "  review=re.sub(\"[^a-zA-Z]\",\" \",str(text))\n",
        "  #Lowering the tweets\n",
        "  review=review.lower()\n",
        "  #Converting in a list\n",
        "  review=review.split()\n",
        "  #Finding and removing stopwords\n",
        "  review=[stemmer.stem(word) for word in review if not word in set(stopwords.words(\"english\"))]\n",
        "  #Joining after removal of stopwords\n",
        "  review=\" \".join(review)\n",
        "  # print(\"here===\",review)\n",
        "  one_hot_dir = [one_hot(words,vocab_size) for words in [review]]\n",
        "\n",
        "  #length of all rows should be equal therefore applying padding\n",
        "  #this will adjust size by adding 0 at staring of the shorter rows\n",
        "  embedded_layer = pad_sequences(one_hot_dir,padding = 'pre', maxlen=len(X_train[0]))\n",
        "  \n",
        "  embedded_layer = np.array(embedded_layer)\n",
        "  output = model(embedded_layer)\n",
        "  prediction = output.numpy()\n",
        "  prediction = prediction[0][0]\n",
        "  # print(prediction)\n",
        "  \n",
        "  if prediction < 0.5:\n",
        "    print(f'{prediction:0.3}: Positive sentiment')\n",
        "    return 1\n",
        "  else:\n",
        "    print(f'{prediction:0.3}: Negative sentiment')\n",
        "    return 0"
      ],
      "execution_count": 55,
      "outputs": []
    },
    {
      "cell_type": "code",
      "metadata": {
        "colab": {
          "base_uri": "https://localhost:8080/"
        },
        "id": "VYMf6BOUrUWB",
        "outputId": "fe9e604a-4682-4217-9cc8-992831c95c57"
      },
      "source": [
        "test_review_neg = \"My mom died last week. I don't have any relatives. I'm alone and it is so hard. Today is the first day without anxiety and depression. I wanna live, I will not give up, I will fight like my mother did.\"\n",
        "predict_sentiment(test_review_neg)"
      ],
      "execution_count": 56,
      "outputs": [
        {
          "output_type": "stream",
          "name": "stdout",
          "text": [
            "1.0: Negative sentiment\n"
          ]
        },
        {
          "output_type": "execute_result",
          "data": {
            "text/plain": [
              "0"
            ]
          },
          "metadata": {},
          "execution_count": 56
        }
      ]
    },
    {
      "cell_type": "code",
      "metadata": {
        "colab": {
          "base_uri": "https://localhost:8080/"
        },
        "id": "OZmOqEq52XOA",
        "outputId": "0f70d4e3-ee64-49b8-eb3d-346177e265a3"
      },
      "source": [
        "test_review_neg = \"hopes the sun will stay now - fleamarket tomorrow, get out the change  http://plurk.com/p/vh81e\"\n",
        "predict_sentiment(test_review_neg)"
      ],
      "execution_count": 57,
      "outputs": [
        {
          "output_type": "stream",
          "name": "stdout",
          "text": [
            "3.11e-05: Positive sentiment\n"
          ]
        },
        {
          "output_type": "execute_result",
          "data": {
            "text/plain": [
              "1"
            ]
          },
          "metadata": {},
          "execution_count": 57
        }
      ]
    },
    {
      "cell_type": "code",
      "metadata": {
        "colab": {
          "base_uri": "https://localhost:8080/"
        },
        "id": "cKL2odDm2maT",
        "outputId": "289a87dc-f197-4f97-e20e-7cdb4dbac016"
      },
      "source": [
        "test_review_neg = \"so excited 2day, looking 4ward 2 my long weekend \"\n",
        "predict_sentiment(test_review_neg)"
      ],
      "execution_count": 58,
      "outputs": [
        {
          "output_type": "stream",
          "name": "stdout",
          "text": [
            "3.77e-05: Positive sentiment\n"
          ]
        },
        {
          "output_type": "execute_result",
          "data": {
            "text/plain": [
              "1"
            ]
          },
          "metadata": {},
          "execution_count": 58
        }
      ]
    },
    {
      "cell_type": "code",
      "metadata": {
        "id": "61O77ZE-AbJr"
      },
      "source": [
        ""
      ],
      "execution_count": null,
      "outputs": []
    }
  ]
}